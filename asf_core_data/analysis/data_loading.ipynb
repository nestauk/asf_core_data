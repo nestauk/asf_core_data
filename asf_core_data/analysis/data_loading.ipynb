{
 "cells": [
  {
   "cell_type": "markdown",
   "id": "ed24df62",
   "metadata": {},
   "source": [
    "## ASF Core Data Infrastructure -  Data Loaders\n",
    "\n",
    "This notebook shows how to load and use the EPC data and related datasets. <br>\n",
    "The data can be loaded directly from the S3 bucket named [`asf-core-data`](https://s3.console.aws.amazon.com/s3/buckets/asf-core-data?region=eu-west-2&tab=objects) or it can be downloaded to a local directory, from where it will be loaded when needed."
   ]
  },
  {
   "cell_type": "code",
   "execution_count": 1,
   "id": "2ebe8bd6",
   "metadata": {},
   "outputs": [
    {
     "name": "stdout",
     "output_type": "stream",
     "text": [
      "2023-03-17 10:33:00,516 - numexpr.utils - INFO - NumExpr defaulting to 8 threads.\n",
      "2023-03-17 10:33:01,751 - botocore.credentials - INFO - Found credentials in shared credentials file: ~/.aws/credentials\n"
     ]
    },
    {
     "name": "stderr",
     "output_type": "stream",
     "text": [
      "<frozen importlib._bootstrap>:219: RuntimeWarning: scipy._lib.messagestream.MessageStream size changed, may indicate binary incompatibility. Expected 56 from C header, got 64 from PyObject\n",
      "/Users/juliasuter/opt/anaconda3/lib/python3.8/site-packages/dask/dataframe/utils.py:367: FutureWarning: pandas.Int64Index is deprecated and will be removed from pandas in a future version. Use pandas.Index with the appropriate dtype instead.\n",
      "  _numeric_index_types = (pd.Int64Index, pd.Float64Index, pd.UInt64Index)\n",
      "/Users/juliasuter/opt/anaconda3/lib/python3.8/site-packages/dask/dataframe/utils.py:367: FutureWarning: pandas.Float64Index is deprecated and will be removed from pandas in a future version. Use pandas.Index with the appropriate dtype instead.\n",
      "  _numeric_index_types = (pd.Int64Index, pd.Float64Index, pd.UInt64Index)\n",
      "/Users/juliasuter/opt/anaconda3/lib/python3.8/site-packages/dask/dataframe/utils.py:367: FutureWarning: pandas.UInt64Index is deprecated and will be removed from pandas in a future version. Use pandas.Index with the appropriate dtype instead.\n",
      "  _numeric_index_types = (pd.Int64Index, pd.Float64Index, pd.UInt64Index)\n"
     ]
    }
   ],
   "source": [
    "%load_ext autoreload\n",
    "%autoreload 2\n",
    "\n",
    "import os\n",
    "\n",
    "from asf_core_data import load_preprocessed_epc_data, PROJECT_DIR\n",
    "from asf_core_data.config import base_config\n",
    "\n",
    "from asf_core_data.getters import data_getters\n",
    "from asf_core_data.getters.epc import epc_data, data_batches\n",
    "from asf_core_data.getters.supplementary_data.deprivation import imd_data\n",
    "from asf_core_data.getters.supplementary_data.geospatial import coordinates\n",
    "\n",
    "from asf_core_data.pipeline.preprocessing import preprocess_epc_data\n",
    "from asf_core_data.pipeline.preprocessing import feature_engineering, data_cleaning\n",
    "from asf_core_data.pipeline.data_joining import install_date_computation\n",
    "from asf_core_data.utils.visualisation import easy_plotting"
   ]
  },
  {
   "cell_type": "markdown",
   "id": "abc1c05c",
   "metadata": {},
   "source": [
    "## Local Data Dir\n",
    "\n",
    "While all the data can be loaded from S3 directly, some data takes a long time to load. It is easiest to keep a local copy in a designated folder that mirrors the structure of the S3 bucket asf-core-data. \n",
    "\n",
    "The setup is easy: create an empty folder of any name in any location you like. The next cell will even create this folder for you if it doesn't already exist.\n",
    "\n",
    "The keyword argument `data_path` that is passed to many loading functions defines whether the data is loaded from S3 (`\"S3\"`) or from the local directory (`LOCAL_DATA_DIR`). The advantage of loading from S3 is that you data is always up-to-date. The disadvantage is that reading certain data directly from S3 can take a long time, which would need to be repeated everytime the code is executed. \n",
    "\n",
    "We recommend using direct loading from S3 for smaller datasets, such as MCS and supplementary data or smaller subsets of the EPC data, but keep a copy of the large EPC files in a local directory. Functions such as `data_batches.check_for_newest_epc_batch()` will notify you if your local batch is not up-to-date. \n",
    "\n",
    "**Note**: the keyword `data_path` will be renamed to `data_source` after the next merge.\n",
    "\n",
    "`LOCAL_DATA_DIR` needs to be a full path or a relative path to where notebook is executed. \n"
   ]
  },
  {
   "cell_type": "code",
   "execution_count": 2,
   "id": "bb07b5ca",
   "metadata": {},
   "outputs": [],
   "source": [
    "LOCAL_DATA_DIR = '/path/to/data/dir'\n",
    "\n",
    "if not os.path.exists(LOCAL_DATA_DIR):\n",
    "    os.makedirs(LOCAL_DATA_DIR)"
   ]
  },
  {
   "cell_type": "markdown",
   "id": "06a71105",
   "metadata": {},
   "source": [
    "If you have just created a new data folder, then before downloading any data, there will be no EPC data batches in your local directory.\n"
   ]
  },
  {
   "cell_type": "code",
   "execution_count": 3,
   "id": "4b8e69d0",
   "metadata": {},
   "outputs": [
    {
     "name": "stdout",
     "output_type": "stream",
     "text": [
      "Local dir\n",
      "---------------\n",
      "Available batches: []\n"
     ]
    }
   ],
   "source": [
    "print(\"Local dir\\n---------------\")\n",
    "print(\"Available batches:\", data_batches.get_all_batch_names(data_path=LOCAL_DATA_DIR, check_folder='input'))"
   ]
  },
  {
   "cell_type": "markdown",
   "id": "879becb2",
   "metadata": {},
   "source": [
    "## Download some of the data to your local dir\n",
    "\n",
    "Our current data dir is still empty at this point. The function `print_download_options()` shows us what data can be downloaded from S3. The option of downloading MCS data will be added shortly.\n",
    "\n",
    "We download the raw EPC data for England, Wales and Scotland for the batch `2021_Q2_0721`. We also download the raw and the preprocessed + deduplicated EPC data of the newest batch."
   ]
  },
  {
   "cell_type": "code",
   "execution_count": 4,
   "id": "70df1f02",
   "metadata": {},
   "outputs": [
    {
     "name": "stdout",
     "output_type": "stream",
     "text": [
      "epc_raw\n",
      "epc_raw_combined\n",
      "epc_preprocessed_dedupl\n",
      "epc_preprocessed\n",
      "EST_cleansed\n",
      "EST_cleansed_dedupl\n",
      "supplementary_data\n"
     ]
    }
   ],
   "source": [
    "data_getters.print_download_options()"
   ]
  },
  {
   "cell_type": "code",
   "execution_count": 5,
   "id": "7a7cc11b",
   "metadata": {},
   "outputs": [
    {
     "name": "stdout",
     "output_type": "stream",
     "text": [
      "CPU times: user 2min 12s, sys: 30.4 s, total: 2min 43s\n",
      "Wall time: 7min 5s\n"
     ]
    }
   ],
   "source": [
    "%%time\n",
    "data_getters.download_core_data('epc_raw', LOCAL_DATA_DIR, batch='2021_Q2_0721')"
   ]
  },
  {
   "cell_type": "code",
   "execution_count": 6,
   "id": "9fb2843f",
   "metadata": {},
   "outputs": [
    {
     "name": "stdout",
     "output_type": "stream",
     "text": [
      "CPU times: user 50.4 s, sys: 7.9 s, total: 58.3 s\n",
      "Wall time: 2min 8s\n"
     ]
    }
   ],
   "source": [
    "%%time\n",
    "data_getters.download_core_data('epc_raw_combined', LOCAL_DATA_DIR, batch=\"newest\")"
   ]
  },
  {
   "cell_type": "code",
   "execution_count": 7,
   "id": "048c2111",
   "metadata": {
    "scrolled": true
   },
   "outputs": [
    {
     "name": "stdout",
     "output_type": "stream",
     "text": [
      "CPU times: user 45 s, sys: 11 s, total: 56 s\n",
      "Wall time: 2min 24s\n"
     ]
    }
   ],
   "source": [
    "%%time\n",
    "data_getters.download_core_data('epc_preprocessed_dedupl', LOCAL_DATA_DIR, batch=\"newest\")"
   ]
  },
  {
   "cell_type": "markdown",
   "id": "aaa88cb4",
   "metadata": {},
   "source": [
    "## Batch checking\n",
    "\n",
    "When working with local data, it is important to keep track of the batches and keep your data up-to-date. The first output shows that our input directory is not up-to-date but our output directory is. (Note that we didn't download the same batch for the raw and preprocessed data above.)\n",
    "\n",
    "After downloading the most recent data batch for the raw EPC data, we get confirmation that our data is now up-to-date. The batch checking functions show that our local input directory now contains two batches and the output directory contains only one batch.\n",
    "\n",
    "The most recent batch will always contain all the EPC data available to us (including previous batches), so the number of samples will naturally increase with every batch. The number of features may also change as new fields are added, although this may not happen with every new batch."
   ]
  },
  {
   "cell_type": "code",
   "execution_count": 8,
   "id": "48a7eea9",
   "metadata": {},
   "outputs": [
    {
     "name": "stdout",
     "output_type": "stream",
     "text": [
      "With batch 2021_Q2_0721 your local data is not up to date. The newest batch 2022_Q3_complete is available on S3.\n"
     ]
    },
    {
     "data": {
      "text/plain": [
       "(False, '2022_Q3_complete')"
      ]
     },
     "execution_count": 8,
     "metadata": {},
     "output_type": "execute_result"
    }
   ],
   "source": [
    "data_batches.check_for_newest_batch(data_path=LOCAL_DATA_DIR, check_folder='inputs', verbose=True)"
   ]
  },
  {
   "cell_type": "code",
   "execution_count": 9,
   "id": "806235b8",
   "metadata": {},
   "outputs": [
    {
     "name": "stdout",
     "output_type": "stream",
     "text": [
      "Your local data is up to date with batch 2022_Q3_complete\n"
     ]
    },
    {
     "data": {
      "text/plain": [
       "(True, '2022_Q3_complete')"
      ]
     },
     "execution_count": 9,
     "metadata": {},
     "output_type": "execute_result"
    }
   ],
   "source": [
    "data_batches.check_for_newest_batch(data_path=LOCAL_DATA_DIR, check_folder='outputs', verbose=True)"
   ]
  },
  {
   "cell_type": "code",
   "execution_count": 11,
   "id": "6aad72f5",
   "metadata": {},
   "outputs": [],
   "source": [
    "data_getters.download_core_data('epc_raw', LOCAL_DATA_DIR, batch=\"newest\")"
   ]
  },
  {
   "cell_type": "code",
   "execution_count": 12,
   "id": "9dbc56e5",
   "metadata": {},
   "outputs": [
    {
     "name": "stdout",
     "output_type": "stream",
     "text": [
      "Your local data is up to date with batch 2022_Q3_complete\n"
     ]
    },
    {
     "data": {
      "text/plain": [
       "(True, '2022_Q3_complete')"
      ]
     },
     "execution_count": 12,
     "metadata": {},
     "output_type": "execute_result"
    }
   ],
   "source": [
    "data_batches.check_for_newest_batch(data_path=LOCAL_DATA_DIR, check_folder='inputs', verbose=True)"
   ]
  },
  {
   "cell_type": "code",
   "execution_count": 13,
   "id": "3072f012",
   "metadata": {},
   "outputs": [
    {
     "name": "stdout",
     "output_type": "stream",
     "text": [
      "S3 bucket\n",
      "---------------\n",
      "Available batches: ['2021_Q2_0721', '2021_Q4_0721', '2022_Q1_complete', '2022_Q3_complete']\n",
      "Newest batch: 2022_Q3_complete\n"
     ]
    }
   ],
   "source": [
    "print(\"S3 bucket\\n---------------\")\n",
    "print(\"Available batches:\", data_batches.get_all_batch_names(data_path=\"S3\"))\n",
    "print(\"Newest batch:\", data_batches.get_most_recent_epc_batch(data_path=\"S3\"))"
   ]
  },
  {
   "cell_type": "code",
   "execution_count": 14,
   "id": "828da98a",
   "metadata": {},
   "outputs": [
    {
     "name": "stdout",
     "output_type": "stream",
     "text": [
      "Local input dir\n",
      "---------------\n",
      "Available batches: ['2021_Q2_0721', '2022_Q3_complete']\n",
      "Newest batch: 2022_Q3_complete\n"
     ]
    }
   ],
   "source": [
    "print(\"Local input dir\\n---------------\")\n",
    "print(\"Available batches:\", data_batches.get_all_batch_names(data_path=LOCAL_DATA_DIR, check_folder='inputs'))\n",
    "print(\"Newest batch:\", data_batches.get_most_recent_epc_batch(data_path=LOCAL_DATA_DIR))"
   ]
  },
  {
   "cell_type": "code",
   "execution_count": 15,
   "id": "ad40ee06",
   "metadata": {},
   "outputs": [
    {
     "name": "stdout",
     "output_type": "stream",
     "text": [
      "Local output dir\n",
      "---------------\n",
      "Available batches: ['2022_Q3_complete']\n",
      "Newest batch: 2022_Q3_complete\n"
     ]
    }
   ],
   "source": [
    "print(\"Local output dir\\n---------------\")\n",
    "print(\"Available batches:\", data_batches.get_all_batch_names(data_path=LOCAL_DATA_DIR, check_folder='outputs'))\n",
    "print(\"Newest batch:\", data_batches.get_most_recent_epc_batch(data_path=LOCAL_DATA_DIR))"
   ]
  },
  {
   "cell_type": "code",
   "execution_count": 18,
   "id": "2d38c51e",
   "metadata": {},
   "outputs": [
    {
     "name": "stdout",
     "output_type": "stream",
     "text": [
      "Batch 2021_Q2_0721 includes 1111383 samples and 92 features.\n"
     ]
    }
   ],
   "source": [
    "wales_epc = epc_data.load_raw_epc_data(\n",
    "    data_path=LOCAL_DATA_DIR, subset=\"Wales\", batch=\"2021_Q2_0721\"\n",
    ")\n",
    "print(\n",
    "    \"Batch 2021_Q2_0721 includes {} samples and {} features.\".format(\n",
    "        wales_epc.shape[0], wales_epc.shape[1]\n",
    "    )\n",
    ")"
   ]
  },
  {
   "cell_type": "code",
   "execution_count": 19,
   "id": "0d8f0071",
   "metadata": {},
   "outputs": [
    {
     "name": "stdout",
     "output_type": "stream",
     "text": [
      "The newest batch includes 1214950 samples and 93 features.\n"
     ]
    }
   ],
   "source": [
    "wales_epc = epc_data.load_raw_epc_data(\n",
    "    data_path=LOCAL_DATA_DIR, subset=\"Wales\", batch=\"newest\"\n",
    ")\n",
    "print(\n",
    "    \"The newest batch includes {} samples and {} features.\".format(\n",
    "        wales_epc.shape[0], wales_epc.shape[1]\n",
    "    )\n",
    ")"
   ]
  },
  {
   "cell_type": "markdown",
   "id": "702a3f16",
   "metadata": {},
   "source": [
    "## Loading raw EPC data\n",
    "\n",
    "### Loading from local dir\n",
    "\n",
    "\n",
    "Load different subsets and batches of raw EPC data from the local data dir. Wales and Scotland subsets can easily be loaded, but England or GB take more than 10min."
   ]
  },
  {
   "cell_type": "code",
   "execution_count": 20,
   "id": "bde7bfd4",
   "metadata": {},
   "outputs": [
    {
     "data": {
      "text/plain": [
       "(1214950, 93)"
      ]
     },
     "execution_count": 20,
     "metadata": {},
     "output_type": "execute_result"
    }
   ],
   "source": [
    "wales_epc = epc_data.load_raw_epc_data(\n",
    "    data_path=LOCAL_DATA_DIR, subset=\"Wales\", batch=\"newest\"\n",
    ")\n",
    "wales_epc.shape"
   ]
  },
  {
   "cell_type": "code",
   "execution_count": 21,
   "id": "e3a02011",
   "metadata": {},
   "outputs": [
    {
     "name": "stdout",
     "output_type": "stream",
     "text": [
      "(5654219, 8)\n"
     ]
    },
    {
     "data": {
      "text/plain": [
       "Index(['LMK_KEY', 'IMPROVEMENT_ITEM', 'IMPROVEMENT_SUMMARY_TEXT',\n",
       "       'IMPROVEMENT_DESCR_TEXT', 'IMPROVEMENT_ID', 'IMPROVEMENT_ID_TEXT',\n",
       "       'INDICATIVE_COST', 'COUNTRY'],\n",
       "      dtype='object')"
      ]
     },
     "execution_count": 21,
     "metadata": {},
     "output_type": "execute_result"
    }
   ],
   "source": [
    "wales_recs = epc_data.load_raw_epc_data(data_path=LOCAL_DATA_DIR, subset='Wales', load_recs=True)\n",
    "print(wales_recs.shape)\n",
    "wales_recs.columns\n"
   ]
  },
  {
   "cell_type": "code",
   "execution_count": 22,
   "id": "1e6fb389",
   "metadata": {},
   "outputs": [
    {
     "data": {
      "text/plain": [
       "(1596414, 105)"
      ]
     },
     "execution_count": 22,
     "metadata": {},
     "output_type": "execute_result"
    }
   ],
   "source": [
    "scotland_epc = epc_data.load_raw_epc_data(\n",
    "    data_path=LOCAL_DATA_DIR, subset=\"Scotland\", batch=\"newest\"\n",
    ")\n",
    "scotland_epc.shape"
   ]
  },
  {
   "cell_type": "markdown",
   "id": "59a3424c",
   "metadata": {},
   "source": [
    "### Loading directly from S3\n",
    "\n",
    "This works, but it can take a while and is not recommended for frequent use.\n",
    "\n",
    "Loading the Wales EPC data can take up to 5min. <br>\n",
    "Loading the Scotland EPC data can take up to 10min. <br>\n",
    "Loading the England EPC data can take up to 30min. <br>\n",
    "Loading the entire GB EPC data takes even longer... <br>\n",
    "\n",
    "It is recommended to download the data and read the data from a local directory instead, especially if needed more than just once."
   ]
  },
  {
   "cell_type": "code",
   "execution_count": 23,
   "id": "b95b9167",
   "metadata": {},
   "outputs": [],
   "source": [
    "# # Commented out to reduce runtime\n",
    "\n",
    "# england_epc = epc_data.load_raw_epc_data(\n",
    "#     data_path=LOCAL_DATA_DIR, subset=\"England\", batch=\"newest\"\n",
    "# )\n",
    "# england_epc.shape"
   ]
  },
  {
   "cell_type": "code",
   "execution_count": 24,
   "id": "0cf2936d",
   "metadata": {},
   "outputs": [],
   "source": [
    "# # Commented out to reduce runtime\n",
    "\n",
    "# %%time\n",
    "# epc_data.load_raw_epc_data(\n",
    "#     data_path=\"S3\", subset=\"Wales\")"
   ]
  },
  {
   "cell_type": "code",
   "execution_count": 25,
   "id": "5845fe29",
   "metadata": {},
   "outputs": [],
   "source": [
    "# #Commented out to reduce runtime\n",
    "\n",
    "# %%time\n",
    "# epc_data.load_raw_epc_data(\n",
    "#     data_path=\"S3\", subset=\"Scotland\")"
   ]
  },
  {
   "cell_type": "code",
   "execution_count": 26,
   "id": "11149b25",
   "metadata": {},
   "outputs": [],
   "source": [
    "# # Commented out to reduce runtime\n",
    "\n",
    "# %%time\n",
    "# epc_data.load_raw_epc_data(\n",
    "#     data_path=\"S3\", subset=\"England\")"
   ]
  },
  {
   "cell_type": "code",
   "execution_count": 27,
   "id": "0d40d697",
   "metadata": {},
   "outputs": [],
   "source": [
    "# # Commented out to reduce runtime\n",
    "\n",
    "# %%time\n",
    "# epc_data.load_raw_epc_data(\n",
    "#     data_path=\"S3\", subset=\"GB\")"
   ]
  },
  {
   "cell_type": "markdown",
   "id": "828ebb0e",
   "metadata": {},
   "source": [
    "## Load preprocessed EPC data\n",
    "\n",
    "### Loading from local dir"
   ]
  },
  {
   "cell_type": "code",
   "execution_count": 28,
   "id": "bd45c96d",
   "metadata": {},
   "outputs": [
    {
     "data": {
      "text/plain": [
       "(907997, 5)"
      ]
     },
     "execution_count": 28,
     "metadata": {},
     "output_type": "execute_result"
    }
   ],
   "source": [
    "prep_epc = load_preprocessed_epc_data(\n",
    "    data_path=LOCAL_DATA_DIR,\n",
    "    usecols=['CURRENT_ENERGY_RATING', 'PROPERTY_TYPE', 'BUILT_FORM', 'CONSTRUCTION_AGE_BAND', 'COUNTRY'],\n",
    "    version=\"preprocessed_dedupl\", subset='Wales'\n",
    ")\n",
    "\n",
    "prep_epc.shape"
   ]
  },
  {
   "cell_type": "code",
   "execution_count": 29,
   "id": "436e5e12",
   "metadata": {},
   "outputs": [
    {
     "data": {
      "text/plain": [
       "(5000, 57)"
      ]
     },
     "execution_count": 29,
     "metadata": {},
     "output_type": "execute_result"
    }
   ],
   "source": [
    "prep_epc_dedupl = load_preprocessed_epc_data(data_path=LOCAL_DATA_DIR, version='preprocessed_dedupl',\n",
    "                                          usecols=base_config.EPC_PREPROC_FEAT_SELECTION, batch='newest',\n",
    "                                          n_samples=5000\n",
    "                                         )\n",
    "\n",
    "prep_epc_dedupl.shape"
   ]
  },
  {
   "cell_type": "code",
   "execution_count": 30,
   "id": "06560798",
   "metadata": {},
   "outputs": [
    {
     "data": {
      "text/plain": [
       "(19049475, 5)"
      ]
     },
     "execution_count": 30,
     "metadata": {},
     "output_type": "execute_result"
    }
   ],
   "source": [
    "prep_epc_dedupl = load_preprocessed_epc_data(data_path=LOCAL_DATA_DIR, version='preprocessed_dedupl',\n",
    "                                          usecols=['CURRENT_ENERGY_EFFICIENCY', 'PROPERTY_TYPE', 'BUILT_FORM', 'CONSTRUCTION_AGE_BAND', 'COUNTRY'],\n",
    "                                              \n",
    "                                         )\n",
    "\n",
    "prep_epc_dedupl.shape"
   ]
  },
  {
   "cell_type": "markdown",
   "id": "b4285a87",
   "metadata": {},
   "source": [
    "### Loading data from directly from S3"
   ]
  },
  {
   "cell_type": "code",
   "execution_count": 31,
   "id": "e725a991",
   "metadata": {},
   "outputs": [
    {
     "name": "stdout",
     "output_type": "stream",
     "text": [
      "2023-03-17 11:08:38,987 - botocore.credentials - INFO - Found credentials in shared credentials file: ~/.aws/credentials\n"
     ]
    },
    {
     "data": {
      "text/plain": [
       "(50000, 5)"
      ]
     },
     "execution_count": 31,
     "metadata": {},
     "output_type": "execute_result"
    }
   ],
   "source": [
    "prep_epc = load_preprocessed_epc_data(data_path=\"S3\", version='preprocessed_dedupl',\n",
    "                                          usecols=['UPRN', 'CURRENT_ENERGY_RATING', 'INSPECTION_DATE',\n",
    "                                                   'PROPERTY_TYPE', 'CONSTRUCTION_AGE_BAND'],\n",
    "                                          batch='newest',\n",
    "                                          n_samples=50000)\n",
    "\n",
    "prep_epc.shape"
   ]
  },
  {
   "cell_type": "markdown",
   "id": "ff87ad34",
   "metadata": {},
   "source": [
    "Pro tip: you can filter the data by entry year."
   ]
  },
  {
   "cell_type": "code",
   "execution_count": 32,
   "id": "7c3ac0bc",
   "metadata": {},
   "outputs": [
    {
     "data": {
      "text/plain": [
       "[2014, 2016, 2017, 2018]"
      ]
     },
     "execution_count": 32,
     "metadata": {},
     "output_type": "execute_result"
    }
   ],
   "source": [
    "prep_epc_2015 = epc_data.filter_by_year(prep_epc, 2018, up_to=True)\n",
    "sorted(prep_epc_2015[\"INSPECTION_DATE\"].dt.year.unique())"
   ]
  },
  {
   "cell_type": "markdown",
   "id": "7dc630fe",
   "metadata": {},
   "source": [
    "### Preprocess the data\n",
    "\n",
    "As preprocessed versions are available on S3 for each batch, this functionionality is optional. Preprocessing can be repeated when the preprocessing pipeline has been updated or if further fields are added.\n",
    "\n",
    "`load_and_preprocess_epc_data()` loads the relevant EPC data, cleans it and adds additonal features."
   ]
  },
  {
   "cell_type": "code",
   "execution_count": 33,
   "id": "719bef28",
   "metadata": {},
   "outputs": [
    {
     "name": "stdout",
     "output_type": "stream",
     "text": [
      "2023-03-17 11:08:42,338 - root - WARNING - Careful! You're not loading the complete GB dataset.\n",
      "Saving raw data to /Users/juliasuter/Documents/New_data/outputs/EPC/preprocessed_data/2022_Q3_complete/EPC_Wales_raw.csv\n",
      "\n",
      "Saving preprocessed data to /Users/juliasuter/Documents/New_data/outputs/EPC/preprocessed_data/2022_Q3_complete/EPC_Wales_preprocessed.csv\n",
      "\n",
      "Saving preprocessed and deduplicated data to /Users/juliasuter/Documents/New_data/outputs/EPC/preprocessed_data/2022_Q3_complete/EPC_Wales_preprocessed_and_deduplicated.csv\n",
      "\n",
      "Original data:\t1214950 samples, 49 features\n",
      "After cleaning:\t1214950 samples, 56 features\n",
      "After adding features:\t1214950 samples, 65 features\n",
      "After removing duplicates:\t908445 samples, 65 features\n"
     ]
    }
   ],
   "source": [
    "wales_epc_reduced = preprocess_epc_data.load_and_preprocess_epc_data(\n",
    "    data_path=LOCAL_DATA_DIR, batch=\"newest\", subset='Wales', \n",
    "    reload_raw=False\n",
    ")"
   ]
  },
  {
   "cell_type": "markdown",
   "id": "c9e93f7b",
   "metadata": {},
   "source": [
    "You can also get more accurate estimates for the heat pump installation date by integrating MCS data."
   ]
  },
  {
   "cell_type": "code",
   "execution_count": 34,
   "id": "4a3de123",
   "metadata": {
    "scrolled": true
   },
   "outputs": [
    {
     "name": "stderr",
     "output_type": "stream",
     "text": [
      "/Users/juliasuter/Documents/repositories/asf_core_data/asf_core_data/pipeline/data_joining/install_date_computation.py:130: SettingWithCopyWarning: \n",
      "A value is trying to be set on a copy of a slice from a DataFrame.\n",
      "Try using .loc[row_indexer,col_indexer] = value instead\n",
      "\n",
      "See the caveats in the documentation: https://pandas.pydata.org/pandas-docs/stable/user_guide/indexing.html#returning-a-view-versus-a-copy\n",
      "  df[\"FIRST_HP_MENTION\"] = df[identifier].map(dict(first_hp_mention))\n",
      "/Users/juliasuter/Documents/repositories/asf_core_data/asf_core_data/pipeline/data_joining/install_date_computation.py:159: SettingWithCopyWarning: \n",
      "A value is trying to be set on a copy of a slice from a DataFrame.\n",
      "Try using .loc[row_indexer,col_indexer] = value instead\n",
      "\n",
      "See the caveats in the documentation: https://pandas.pydata.org/pandas-docs/stable/user_guide/indexing.html#returning-a-view-versus-a-copy\n",
      "  df[\"MCS_AVAILABLE\"] = ~df[\"HP_INSTALL_DATE\"].isna()\n",
      "/Users/juliasuter/Documents/repositories/asf_core_data/asf_core_data/pipeline/data_joining/install_date_computation.py:162: SettingWithCopyWarning: \n",
      "A value is trying to be set on a copy of a slice from a DataFrame.\n",
      "Try using .loc[row_indexer,col_indexer] = value instead\n",
      "\n",
      "See the caveats in the documentation: https://pandas.pydata.org/pandas-docs/stable/user_guide/indexing.html#returning-a-view-versus-a-copy\n",
      "  df[\"HAS_HP_AT_SOME_POINT\"] = ~df[\"FIRST_HP_MENTION\"].isna()\n",
      "/Users/juliasuter/Documents/repositories/asf_core_data/asf_core_data/pipeline/data_joining/install_date_computation.py:174: SettingWithCopyWarning: \n",
      "A value is trying to be set on a copy of a slice from a DataFrame.\n",
      "Try using .loc[row_indexer,col_indexer] = value instead\n",
      "\n",
      "See the caveats in the documentation: https://pandas.pydata.org/pandas-docs/stable/user_guide/indexing.html#returning-a-view-versus-a-copy\n",
      "  df[\"ARTIFICIALLY_DUPL\"] = False\n",
      "/Users/juliasuter/Documents/repositories/asf_core_data/asf_core_data/pipeline/data_joining/install_date_computation.py:219: SettingWithCopyWarning: \n",
      "A value is trying to be set on a copy of a slice from a DataFrame.\n",
      "Try using .loc[row_indexer,col_indexer] = value instead\n",
      "\n",
      "See the caveats in the documentation: https://pandas.pydata.org/pandas-docs/stable/user_guide/indexing.html#returning-a-view-versus-a-copy\n",
      "  df[\"HP_INSTALL_DATE\"] = np.where(\n",
      "/Users/juliasuter/Documents/repositories/asf_core_data/asf_core_data/pipeline/data_joining/install_date_computation.py:235: SettingWithCopyWarning: \n",
      "A value is trying to be set on a copy of a slice from a DataFrame.\n",
      "Try using .loc[row_indexer,col_indexer] = value instead\n",
      "\n",
      "See the caveats in the documentation: https://pandas.pydata.org/pandas-docs/stable/user_guide/indexing.html#returning-a-view-versus-a-copy\n",
      "  df[\"EPC HP entry before MCS\"] = np.where(\n",
      "/Users/juliasuter/Documents/repositories/asf_core_data/asf_core_data/pipeline/data_joining/install_date_computation.py:240: SettingWithCopyWarning: \n",
      "A value is trying to be set on a copy of a slice from a DataFrame.\n",
      "Try using .loc[row_indexer,col_indexer] = value instead\n",
      "\n",
      "See the caveats in the documentation: https://pandas.pydata.org/pandas-docs/stable/user_guide/indexing.html#returning-a-view-versus-a-copy\n",
      "  df[\"HP_INSTALLED\"] = np.where(\n",
      "/Users/juliasuter/Documents/repositories/asf_core_data/asf_core_data/pipeline/data_joining/install_date_computation.py:243: SettingWithCopyWarning: \n",
      "A value is trying to be set on a copy of a slice from a DataFrame.\n",
      "Try using .loc[row_indexer,col_indexer] = value instead\n",
      "\n",
      "See the caveats in the documentation: https://pandas.pydata.org/pandas-docs/stable/user_guide/indexing.html#returning-a-view-versus-a-copy\n",
      "  df[\"HP_INSTALL_DATE\"] = np.where(\n",
      "/Users/juliasuter/Documents/repositories/asf_core_data/asf_core_data/pipeline/data_joining/install_date_computation.py:254: SettingWithCopyWarning: \n",
      "A value is trying to be set on a copy of a slice from a DataFrame.\n",
      "Try using .loc[row_indexer,col_indexer] = value instead\n",
      "\n",
      "See the caveats in the documentation: https://pandas.pydata.org/pandas-docs/stable/user_guide/indexing.html#returning-a-view-versus-a-copy\n",
      "  df[\"No EPC HP entry after MCS\"] = np.where(\n",
      "/Users/juliasuter/Documents/repositories/asf_core_data/asf_core_data/pipeline/data_joining/install_date_computation.py:259: SettingWithCopyWarning: \n",
      "A value is trying to be set on a copy of a slice from a DataFrame.\n",
      "Try using .loc[row_indexer,col_indexer] = value instead\n",
      "\n",
      "See the caveats in the documentation: https://pandas.pydata.org/pandas-docs/stable/user_guide/indexing.html#returning-a-view-versus-a-copy\n",
      "  df[\"HP_INSTALLED\"] = np.where(\n",
      "/Users/juliasuter/Documents/repositories/asf_core_data/asf_core_data/pipeline/data_joining/install_date_computation.py:262: SettingWithCopyWarning: \n",
      "A value is trying to be set on a copy of a slice from a DataFrame.\n",
      "Try using .loc[row_indexer,col_indexer] = value instead\n",
      "\n",
      "See the caveats in the documentation: https://pandas.pydata.org/pandas-docs/stable/user_guide/indexing.html#returning-a-view-versus-a-copy\n",
      "  df[\"HP_INSTALL_DATE\"] = np.where(\n",
      "/Users/juliasuter/Documents/repositories/asf_core_data/asf_core_data/pipeline/data_joining/install_date_computation.py:268: SettingWithCopyWarning: \n",
      "A value is trying to be set on a copy of a slice from a DataFrame.\n",
      "Try using .loc[row_indexer,col_indexer] = value instead\n",
      "\n",
      "See the caveats in the documentation: https://pandas.pydata.org/pandas-docs/stable/user_guide/indexing.html#returning-a-view-versus-a-copy\n",
      "  df[\"HP_INSTALLED\"] = np.where(\n",
      "/Users/juliasuter/Documents/repositories/asf_core_data/asf_core_data/pipeline/data_joining/install_date_computation.py:290: SettingWithCopyWarning: \n",
      "A value is trying to be set on a copy of a slice from a DataFrame.\n",
      "Try using .loc[row_indexer,col_indexer] = value instead\n",
      "\n",
      "See the caveats in the documentation: https://pandas.pydata.org/pandas-docs/stable/user_guide/indexing.html#returning-a-view-versus-a-copy\n",
      "  df[\"HP_INSTALLED\"] = np.where(\n",
      "/Users/juliasuter/Documents/repositories/asf_core_data/asf_core_data/pipeline/data_joining/install_date_computation.py:293: SettingWithCopyWarning: \n",
      "A value is trying to be set on a copy of a slice from a DataFrame.\n",
      "Try using .loc[row_indexer,col_indexer] = value instead\n",
      "\n",
      "See the caveats in the documentation: https://pandas.pydata.org/pandas-docs/stable/user_guide/indexing.html#returning-a-view-versus-a-copy\n",
      "  df[\"HP_INSTALL_DATE\"] = np.where(\n"
     ]
    },
    {
     "data": {
      "text/html": [
       "<div>\n",
       "<style scoped>\n",
       "    .dataframe tbody tr th:only-of-type {\n",
       "        vertical-align: middle;\n",
       "    }\n",
       "\n",
       "    .dataframe tbody tr th {\n",
       "        vertical-align: top;\n",
       "    }\n",
       "\n",
       "    .dataframe thead th {\n",
       "        text-align: right;\n",
       "    }\n",
       "</style>\n",
       "<table border=\"1\" class=\"dataframe\">\n",
       "  <thead>\n",
       "    <tr style=\"text-align: right;\">\n",
       "      <th></th>\n",
       "      <th>BUILDING_REFERENCE_NUMBER</th>\n",
       "      <th>UPRN</th>\n",
       "      <th>ADDRESS1</th>\n",
       "      <th>ADDRESS2</th>\n",
       "      <th>POSTCODE</th>\n",
       "      <th>INSPECTION_DATE</th>\n",
       "      <th>ENERGY_CONSUMPTION_CURRENT</th>\n",
       "      <th>TOTAL_FLOOR_AREA</th>\n",
       "      <th>CURRENT_ENERGY_EFFICIENCY</th>\n",
       "      <th>CURRENT_ENERGY_RATING</th>\n",
       "      <th>...</th>\n",
       "      <th>CURR_ENERGY_RATING_NUM</th>\n",
       "      <th>ENERGY_RATING_CAT</th>\n",
       "      <th>DIFF_POT_ENERGY_RATING</th>\n",
       "      <th>HP_INSTALL_DATE</th>\n",
       "      <th>FIRST_HP_MENTION</th>\n",
       "      <th>MCS_AVAILABLE</th>\n",
       "      <th>HAS_HP_AT_SOME_POINT</th>\n",
       "      <th>ARTIFICIALLY_DUPL</th>\n",
       "      <th>EPC HP entry before MCS</th>\n",
       "      <th>No EPC HP entry after MCS</th>\n",
       "    </tr>\n",
       "  </thead>\n",
       "  <tbody>\n",
       "    <tr>\n",
       "      <th>709553</th>\n",
       "      <td>4559214568</td>\n",
       "      <td>4559214568</td>\n",
       "      <td>Top Floor Flat</td>\n",
       "      <td>445 Abergele Road</td>\n",
       "      <td>LL29 9PR</td>\n",
       "      <td>2008-01-04</td>\n",
       "      <td>360.0</td>\n",
       "      <td>61.34</td>\n",
       "      <td>57</td>\n",
       "      <td>D</td>\n",
       "      <td>...</td>\n",
       "      <td>4.0</td>\n",
       "      <td>C-D</td>\n",
       "      <td>1.0</td>\n",
       "      <td>NaT</td>\n",
       "      <td>NaT</td>\n",
       "      <td>False</td>\n",
       "      <td>False</td>\n",
       "      <td>False</td>\n",
       "      <td>False</td>\n",
       "      <td>False</td>\n",
       "    </tr>\n",
       "    <tr>\n",
       "      <th>766597</th>\n",
       "      <td>1204076568</td>\n",
       "      <td>200003188250</td>\n",
       "      <td>Penygongl</td>\n",
       "      <td>1, High Street</td>\n",
       "      <td>LL46 2YA</td>\n",
       "      <td>2008-01-08</td>\n",
       "      <td>903.0</td>\n",
       "      <td>114.45</td>\n",
       "      <td>13</td>\n",
       "      <td>G</td>\n",
       "      <td>...</td>\n",
       "      <td>1.0</td>\n",
       "      <td>E-G</td>\n",
       "      <td>1.0</td>\n",
       "      <td>NaT</td>\n",
       "      <td>NaT</td>\n",
       "      <td>False</td>\n",
       "      <td>False</td>\n",
       "      <td>False</td>\n",
       "      <td>False</td>\n",
       "      <td>False</td>\n",
       "    </tr>\n",
       "    <tr>\n",
       "      <th>738671</th>\n",
       "      <td>1271176568</td>\n",
       "      <td>100100958685</td>\n",
       "      <td>172, Glan Gors</td>\n",
       "      <td>unknown</td>\n",
       "      <td>LL46 2SQ</td>\n",
       "      <td>2008-01-08</td>\n",
       "      <td>591.0</td>\n",
       "      <td>40.53</td>\n",
       "      <td>47</td>\n",
       "      <td>E</td>\n",
       "      <td>...</td>\n",
       "      <td>3.0</td>\n",
       "      <td>E-G</td>\n",
       "      <td>1.0</td>\n",
       "      <td>NaT</td>\n",
       "      <td>NaT</td>\n",
       "      <td>False</td>\n",
       "      <td>False</td>\n",
       "      <td>False</td>\n",
       "      <td>False</td>\n",
       "      <td>False</td>\n",
       "    </tr>\n",
       "    <tr>\n",
       "      <th>737825</th>\n",
       "      <td>4413646568</td>\n",
       "      <td>10070283045</td>\n",
       "      <td>12, Garth Terrace</td>\n",
       "      <td>unknown</td>\n",
       "      <td>LL49 9BE</td>\n",
       "      <td>2008-01-08</td>\n",
       "      <td>584.0</td>\n",
       "      <td>66.92</td>\n",
       "      <td>38</td>\n",
       "      <td>F</td>\n",
       "      <td>...</td>\n",
       "      <td>2.0</td>\n",
       "      <td>E-G</td>\n",
       "      <td>2.0</td>\n",
       "      <td>NaT</td>\n",
       "      <td>NaT</td>\n",
       "      <td>False</td>\n",
       "      <td>False</td>\n",
       "      <td>False</td>\n",
       "      <td>False</td>\n",
       "      <td>False</td>\n",
       "    </tr>\n",
       "    <tr>\n",
       "      <th>1127092</th>\n",
       "      <td>1908351568</td>\n",
       "      <td>10010056847</td>\n",
       "      <td>5 Mydam Lane</td>\n",
       "      <td>Gorseinon</td>\n",
       "      <td>SA4 4YA</td>\n",
       "      <td>2008-01-09</td>\n",
       "      <td>128.0</td>\n",
       "      <td>89.72</td>\n",
       "      <td>82</td>\n",
       "      <td>B</td>\n",
       "      <td>...</td>\n",
       "      <td>6.0</td>\n",
       "      <td>A-B</td>\n",
       "      <td>0.0</td>\n",
       "      <td>NaT</td>\n",
       "      <td>NaT</td>\n",
       "      <td>False</td>\n",
       "      <td>False</td>\n",
       "      <td>False</td>\n",
       "      <td>False</td>\n",
       "      <td>False</td>\n",
       "    </tr>\n",
       "  </tbody>\n",
       "</table>\n",
       "<p>5 rows × 72 columns</p>\n",
       "</div>"
      ],
      "text/plain": [
       "        BUILDING_REFERENCE_NUMBER          UPRN           ADDRESS1  \\\n",
       "709553                 4559214568    4559214568     Top Floor Flat   \n",
       "766597                 1204076568  200003188250          Penygongl   \n",
       "738671                 1271176568  100100958685     172, Glan Gors   \n",
       "737825                 4413646568   10070283045  12, Garth Terrace   \n",
       "1127092                1908351568   10010056847       5 Mydam Lane   \n",
       "\n",
       "                  ADDRESS2  POSTCODE INSPECTION_DATE  \\\n",
       "709553   445 Abergele Road  LL29 9PR      2008-01-04   \n",
       "766597      1, High Street  LL46 2YA      2008-01-08   \n",
       "738671             unknown  LL46 2SQ      2008-01-08   \n",
       "737825             unknown  LL49 9BE      2008-01-08   \n",
       "1127092          Gorseinon   SA4 4YA      2008-01-09   \n",
       "\n",
       "         ENERGY_CONSUMPTION_CURRENT  TOTAL_FLOOR_AREA  \\\n",
       "709553                        360.0             61.34   \n",
       "766597                        903.0            114.45   \n",
       "738671                        591.0             40.53   \n",
       "737825                        584.0             66.92   \n",
       "1127092                       128.0             89.72   \n",
       "\n",
       "         CURRENT_ENERGY_EFFICIENCY CURRENT_ENERGY_RATING  ...  \\\n",
       "709553                          57                     D  ...   \n",
       "766597                          13                     G  ...   \n",
       "738671                          47                     E  ...   \n",
       "737825                          38                     F  ...   \n",
       "1127092                         82                     B  ...   \n",
       "\n",
       "        CURR_ENERGY_RATING_NUM  ENERGY_RATING_CAT DIFF_POT_ENERGY_RATING  \\\n",
       "709553                     4.0                C-D                    1.0   \n",
       "766597                     1.0                E-G                    1.0   \n",
       "738671                     3.0                E-G                    1.0   \n",
       "737825                     2.0                E-G                    2.0   \n",
       "1127092                    6.0                A-B                    0.0   \n",
       "\n",
       "        HP_INSTALL_DATE FIRST_HP_MENTION MCS_AVAILABLE HAS_HP_AT_SOME_POINT  \\\n",
       "709553              NaT              NaT         False                False   \n",
       "766597              NaT              NaT         False                False   \n",
       "738671              NaT              NaT         False                False   \n",
       "737825              NaT              NaT         False                False   \n",
       "1127092             NaT              NaT         False                False   \n",
       "\n",
       "        ARTIFICIALLY_DUPL EPC HP entry before MCS No EPC HP entry after MCS  \n",
       "709553              False                   False                     False  \n",
       "766597              False                   False                     False  \n",
       "738671              False                   False                     False  \n",
       "737825              False                   False                     False  \n",
       "1127092             False                   False                     False  \n",
       "\n",
       "[5 rows x 72 columns]"
      ]
     },
     "execution_count": 34,
     "metadata": {},
     "output_type": "execute_result"
    }
   ],
   "source": [
    "wales_epc_with_MCS_dates = install_date_computation.compute_hp_install_date(\n",
    "    wales_epc_reduced\n",
    ")\n",
    "wales_epc_with_MCS_dates.head()"
   ]
  },
  {
   "cell_type": "markdown",
   "id": "c1e298ea",
   "metadata": {},
   "source": [
    "### Utils\n",
    "\n",
    "There are also a few utils functions to facilitate plotting.\n"
   ]
  },
  {
   "cell_type": "code",
   "execution_count": 35,
   "id": "6cbfac87",
   "metadata": {},
   "outputs": [
    {
     "data": {
      "image/png": "[encoded data removed]",
      "text/plain": [
       "<Figure size 640x480 with 1 Axes>"
      ]
     },
     "metadata": {},
     "output_type": "display_data"
    }
   ],
   "source": [
    "easy_plotting.plot_subcats_by_other_subcats(\n",
    "    wales_epc_with_MCS_dates,\n",
    "    \"PROPERTY_TYPE\",\n",
    "    \"CONSTRUCTION_AGE_BAND\",\n",
    "    plotting_colors=\"viridis\",\n",
    "    legend_loc=\"outside\",\n",
    "    plot_title=\"Construction Age by Property Type\",\n",
    "    fig_save_path=PROJECT_DIR / base_config.FIG_PATH\n",
    ")"
   ]
  },
  {
   "cell_type": "markdown",
   "id": "d79349d7",
   "metadata": {},
   "source": [
    "## Supplementary data\n",
    "\n",
    "Most supplementary data is small enough that it can be loaded from S3 directly if needed, but you can also download all of it to a local dir."
   ]
  },
  {
   "cell_type": "code",
   "execution_count": 36,
   "id": "15664726",
   "metadata": {},
   "outputs": [
    {
     "data": {
      "text/plain": [
       "England     2188612\n",
       "Scotland     157832\n",
       "Wales        138112\n",
       "Name: Country, dtype: int64"
      ]
     },
     "execution_count": 36,
     "metadata": {},
     "output_type": "execute_result"
    }
   ],
   "source": [
    "imd_df = imd_data.get_imd_data(data_path='S3')\n",
    "imd_df[\"Country\"].value_counts()"
   ]
  },
  {
   "cell_type": "code",
   "execution_count": 37,
   "id": "0aedde39",
   "metadata": {
    "scrolled": false
   },
   "outputs": [
    {
     "data": {
      "text/html": [
       "<div>\n",
       "<style scoped>\n",
       "    .dataframe tbody tr th:only-of-type {\n",
       "        vertical-align: middle;\n",
       "    }\n",
       "\n",
       "    .dataframe tbody tr th {\n",
       "        vertical-align: top;\n",
       "    }\n",
       "\n",
       "    .dataframe thead th {\n",
       "        text-align: right;\n",
       "    }\n",
       "</style>\n",
       "<table border=\"1\" class=\"dataframe\">\n",
       "  <thead>\n",
       "    <tr style=\"text-align: right;\">\n",
       "      <th></th>\n",
       "      <th>Postcode</th>\n",
       "      <th>IMD Rank</th>\n",
       "      <th>IMD Decile</th>\n",
       "      <th>Income Score</th>\n",
       "      <th>Employment Score</th>\n",
       "      <th>Country</th>\n",
       "    </tr>\n",
       "  </thead>\n",
       "  <tbody>\n",
       "    <tr>\n",
       "      <th>0</th>\n",
       "      <td>CF11AA</td>\n",
       "      <td>426</td>\n",
       "      <td>3</td>\n",
       "      <td>32.0</td>\n",
       "      <td>14.4</td>\n",
       "      <td>Wales</td>\n",
       "    </tr>\n",
       "    <tr>\n",
       "      <th>1</th>\n",
       "      <td>CF11AB</td>\n",
       "      <td>426</td>\n",
       "      <td>3</td>\n",
       "      <td>32.0</td>\n",
       "      <td>14.4</td>\n",
       "      <td>Wales</td>\n",
       "    </tr>\n",
       "    <tr>\n",
       "      <th>2</th>\n",
       "      <td>CF11BU</td>\n",
       "      <td>426</td>\n",
       "      <td>3</td>\n",
       "      <td>32.0</td>\n",
       "      <td>14.4</td>\n",
       "      <td>Wales</td>\n",
       "    </tr>\n",
       "    <tr>\n",
       "      <th>3</th>\n",
       "      <td>CF17AT</td>\n",
       "      <td>426</td>\n",
       "      <td>3</td>\n",
       "      <td>32.0</td>\n",
       "      <td>14.4</td>\n",
       "      <td>Wales</td>\n",
       "    </tr>\n",
       "    <tr>\n",
       "      <th>4</th>\n",
       "      <td>CF17HR</td>\n",
       "      <td>426</td>\n",
       "      <td>3</td>\n",
       "      <td>32.0</td>\n",
       "      <td>14.4</td>\n",
       "      <td>Wales</td>\n",
       "    </tr>\n",
       "    <tr>\n",
       "      <th>...</th>\n",
       "      <td>...</td>\n",
       "      <td>...</td>\n",
       "      <td>...</td>\n",
       "      <td>...</td>\n",
       "      <td>...</td>\n",
       "      <td>...</td>\n",
       "    </tr>\n",
       "    <tr>\n",
       "      <th>138107</th>\n",
       "      <td>SY256WS</td>\n",
       "      <td>765</td>\n",
       "      <td>5</td>\n",
       "      <td>15.4</td>\n",
       "      <td>20.5</td>\n",
       "      <td>Wales</td>\n",
       "    </tr>\n",
       "    <tr>\n",
       "      <th>138108</th>\n",
       "      <td>SY256WW</td>\n",
       "      <td>765</td>\n",
       "      <td>5</td>\n",
       "      <td>15.4</td>\n",
       "      <td>20.5</td>\n",
       "      <td>Wales</td>\n",
       "    </tr>\n",
       "    <tr>\n",
       "      <th>138109</th>\n",
       "      <td>SY256WX</td>\n",
       "      <td>765</td>\n",
       "      <td>5</td>\n",
       "      <td>15.4</td>\n",
       "      <td>20.5</td>\n",
       "      <td>Wales</td>\n",
       "    </tr>\n",
       "    <tr>\n",
       "      <th>138110</th>\n",
       "      <td>SY256WZ</td>\n",
       "      <td>765</td>\n",
       "      <td>5</td>\n",
       "      <td>15.4</td>\n",
       "      <td>20.5</td>\n",
       "      <td>Wales</td>\n",
       "    </tr>\n",
       "    <tr>\n",
       "      <th>138111</th>\n",
       "      <td>SY256XA</td>\n",
       "      <td>765</td>\n",
       "      <td>5</td>\n",
       "      <td>15.4</td>\n",
       "      <td>20.5</td>\n",
       "      <td>Wales</td>\n",
       "    </tr>\n",
       "  </tbody>\n",
       "</table>\n",
       "<p>138112 rows × 6 columns</p>\n",
       "</div>"
      ],
      "text/plain": [
       "       Postcode  IMD Rank  IMD Decile  Income Score  Employment Score Country\n",
       "0        CF11AA       426           3          32.0              14.4   Wales\n",
       "1        CF11AB       426           3          32.0              14.4   Wales\n",
       "2        CF11BU       426           3          32.0              14.4   Wales\n",
       "3        CF17AT       426           3          32.0              14.4   Wales\n",
       "4        CF17HR       426           3          32.0              14.4   Wales\n",
       "...         ...       ...         ...           ...               ...     ...\n",
       "138107  SY256WS       765           5          15.4              20.5   Wales\n",
       "138108  SY256WW       765           5          15.4              20.5   Wales\n",
       "138109  SY256WX       765           5          15.4              20.5   Wales\n",
       "138110  SY256WZ       765           5          15.4              20.5   Wales\n",
       "138111  SY256XA       765           5          15.4              20.5   Wales\n",
       "\n",
       "[138112 rows x 6 columns]"
      ]
     },
     "execution_count": 37,
     "metadata": {},
     "output_type": "execute_result"
    }
   ],
   "source": [
    "imd_data.get_imd_data('Wales', data_path=\"S3\")"
   ]
  },
  {
   "cell_type": "code",
   "execution_count": 38,
   "id": "4ade9e08",
   "metadata": {},
   "outputs": [
    {
     "data": {
      "text/html": [
       "<div>\n",
       "<style scoped>\n",
       "    .dataframe tbody tr th:only-of-type {\n",
       "        vertical-align: middle;\n",
       "    }\n",
       "\n",
       "    .dataframe tbody tr th {\n",
       "        vertical-align: top;\n",
       "    }\n",
       "\n",
       "    .dataframe thead th {\n",
       "        text-align: right;\n",
       "    }\n",
       "</style>\n",
       "<table border=\"1\" class=\"dataframe\">\n",
       "  <thead>\n",
       "    <tr style=\"text-align: right;\">\n",
       "      <th></th>\n",
       "      <th>POSTCODE</th>\n",
       "      <th>LATITUDE</th>\n",
       "      <th>LONGITUDE</th>\n",
       "    </tr>\n",
       "  </thead>\n",
       "  <tbody>\n",
       "    <tr>\n",
       "      <th>0</th>\n",
       "      <td>AB10 1XG</td>\n",
       "      <td>57.144165</td>\n",
       "      <td>-2.114848</td>\n",
       "    </tr>\n",
       "    <tr>\n",
       "      <th>1</th>\n",
       "      <td>AB10 6RN</td>\n",
       "      <td>57.137880</td>\n",
       "      <td>-2.121487</td>\n",
       "    </tr>\n",
       "    <tr>\n",
       "      <th>2</th>\n",
       "      <td>AB10 7JB</td>\n",
       "      <td>57.124274</td>\n",
       "      <td>-2.127190</td>\n",
       "    </tr>\n",
       "    <tr>\n",
       "      <th>3</th>\n",
       "      <td>AB11 5QN</td>\n",
       "      <td>57.142701</td>\n",
       "      <td>-2.093295</td>\n",
       "    </tr>\n",
       "    <tr>\n",
       "      <th>4</th>\n",
       "      <td>AB11 6UL</td>\n",
       "      <td>57.137547</td>\n",
       "      <td>-2.112233</td>\n",
       "    </tr>\n",
       "  </tbody>\n",
       "</table>\n",
       "</div>"
      ],
      "text/plain": [
       "   POSTCODE   LATITUDE  LONGITUDE\n",
       "0  AB10 1XG  57.144165  -2.114848\n",
       "1  AB10 6RN  57.137880  -2.121487\n",
       "2  AB10 7JB  57.124274  -2.127190\n",
       "3  AB11 5QN  57.142701  -2.093295\n",
       "4  AB11 6UL  57.137547  -2.112233"
      ]
     },
     "execution_count": 38,
     "metadata": {},
     "output_type": "execute_result"
    }
   ],
   "source": [
    "coords = coordinates.get_postcode_coordinates()\n",
    "coords.head()"
   ]
  },
  {
   "cell_type": "code",
   "execution_count": 39,
   "id": "2815048e",
   "metadata": {},
   "outputs": [
    {
     "data": {
      "text/html": [
       "<div>\n",
       "<style scoped>\n",
       "    .dataframe tbody tr th:only-of-type {\n",
       "        vertical-align: middle;\n",
       "    }\n",
       "\n",
       "    .dataframe tbody tr th {\n",
       "        vertical-align: top;\n",
       "    }\n",
       "\n",
       "    .dataframe thead th {\n",
       "        text-align: right;\n",
       "    }\n",
       "</style>\n",
       "<table border=\"1\" class=\"dataframe\">\n",
       "  <thead>\n",
       "    <tr style=\"text-align: right;\">\n",
       "      <th></th>\n",
       "      <th>POSTCODE</th>\n",
       "      <th>LATITUDE</th>\n",
       "      <th>LONGITUDE</th>\n",
       "    </tr>\n",
       "  </thead>\n",
       "  <tbody>\n",
       "    <tr>\n",
       "      <th>0</th>\n",
       "      <td>AB10 1XG</td>\n",
       "      <td>57.144165</td>\n",
       "      <td>-2.114848</td>\n",
       "    </tr>\n",
       "    <tr>\n",
       "      <th>1</th>\n",
       "      <td>AB10 6RN</td>\n",
       "      <td>57.137880</td>\n",
       "      <td>-2.121487</td>\n",
       "    </tr>\n",
       "    <tr>\n",
       "      <th>2</th>\n",
       "      <td>AB10 7JB</td>\n",
       "      <td>57.124274</td>\n",
       "      <td>-2.127190</td>\n",
       "    </tr>\n",
       "    <tr>\n",
       "      <th>3</th>\n",
       "      <td>AB11 5QN</td>\n",
       "      <td>57.142701</td>\n",
       "      <td>-2.093295</td>\n",
       "    </tr>\n",
       "    <tr>\n",
       "      <th>4</th>\n",
       "      <td>AB11 6UL</td>\n",
       "      <td>57.137547</td>\n",
       "      <td>-2.112233</td>\n",
       "    </tr>\n",
       "  </tbody>\n",
       "</table>\n",
       "</div>"
      ],
      "text/plain": [
       "   POSTCODE   LATITUDE  LONGITUDE\n",
       "0  AB10 1XG  57.144165  -2.114848\n",
       "1  AB10 6RN  57.137880  -2.121487\n",
       "2  AB10 7JB  57.124274  -2.127190\n",
       "3  AB11 5QN  57.142701  -2.093295\n",
       "4  AB11 6UL  57.137547  -2.112233"
      ]
     },
     "execution_count": 39,
     "metadata": {},
     "output_type": "execute_result"
    }
   ],
   "source": [
    "coords = data_cleaning.reformat_postcode(coords, white_space='add')\n",
    "coords.head()"
   ]
  },
  {
   "cell_type": "code",
   "execution_count": 40,
   "id": "2cb4ef24",
   "metadata": {},
   "outputs": [
    {
     "data": {
      "text/html": [
       "<div>\n",
       "<style scoped>\n",
       "    .dataframe tbody tr th:only-of-type {\n",
       "        vertical-align: middle;\n",
       "    }\n",
       "\n",
       "    .dataframe tbody tr th {\n",
       "        vertical-align: top;\n",
       "    }\n",
       "\n",
       "    .dataframe thead th {\n",
       "        text-align: right;\n",
       "    }\n",
       "</style>\n",
       "<table border=\"1\" class=\"dataframe\">\n",
       "  <thead>\n",
       "    <tr style=\"text-align: right;\">\n",
       "      <th></th>\n",
       "      <th>CURRENT_ENERGY_RATING</th>\n",
       "      <th>POSTCODE</th>\n",
       "      <th>LONGITUDE</th>\n",
       "      <th>LATITUDE</th>\n",
       "    </tr>\n",
       "  </thead>\n",
       "  <tbody>\n",
       "    <tr>\n",
       "      <th>0</th>\n",
       "      <td>C</td>\n",
       "      <td>NP75DX</td>\n",
       "      <td>-3.022069</td>\n",
       "      <td>51.82172</td>\n",
       "    </tr>\n",
       "    <tr>\n",
       "      <th>1</th>\n",
       "      <td>B</td>\n",
       "      <td>NP75DX</td>\n",
       "      <td>-3.022069</td>\n",
       "      <td>51.82172</td>\n",
       "    </tr>\n",
       "    <tr>\n",
       "      <th>2</th>\n",
       "      <td>B</td>\n",
       "      <td>NP75DX</td>\n",
       "      <td>-3.022069</td>\n",
       "      <td>51.82172</td>\n",
       "    </tr>\n",
       "    <tr>\n",
       "      <th>3</th>\n",
       "      <td>B</td>\n",
       "      <td>NP75DX</td>\n",
       "      <td>-3.022069</td>\n",
       "      <td>51.82172</td>\n",
       "    </tr>\n",
       "    <tr>\n",
       "      <th>4</th>\n",
       "      <td>C</td>\n",
       "      <td>NP75DX</td>\n",
       "      <td>-3.022069</td>\n",
       "      <td>51.82172</td>\n",
       "    </tr>\n",
       "  </tbody>\n",
       "</table>\n",
       "</div>"
      ],
      "text/plain": [
       "  CURRENT_ENERGY_RATING POSTCODE  LONGITUDE  LATITUDE\n",
       "0                     C   NP75DX  -3.022069  51.82172\n",
       "1                     B   NP75DX  -3.022069  51.82172\n",
       "2                     B   NP75DX  -3.022069  51.82172\n",
       "3                     B   NP75DX  -3.022069  51.82172\n",
       "4                     C   NP75DX  -3.022069  51.82172"
      ]
     },
     "execution_count": 40,
     "metadata": {},
     "output_type": "execute_result"
    }
   ],
   "source": [
    "wales_epc_reduced_w_coords = feature_engineering.get_postcode_coordinates(wales_epc_reduced)\n",
    "wales_epc_reduced_w_coords[['CURRENT_ENERGY_RATING', 'POSTCODE', 'LONGITUDE', 'LATITUDE']].head()"
   ]
  },
  {
   "cell_type": "markdown",
   "id": "62872b64",
   "metadata": {},
   "source": [
    "## EST cleansed version\n",
    "\n",
    "This data is probably no longer needed but could be loaded as follows.\n",
    "They are very large files and it would be hard to read it directly from S3."
   ]
  },
  {
   "cell_type": "code",
   "execution_count": 41,
   "id": "13f532da",
   "metadata": {},
   "outputs": [],
   "source": [
    "data_getters.download_core_data('EST_cleansed_dedupl', LOCAL_DATA_DIR)"
   ]
  },
  {
   "cell_type": "code",
   "execution_count": 42,
   "id": "bf192e99",
   "metadata": {},
   "outputs": [
    {
     "name": "stdout",
     "output_type": "stream",
     "text": [
      "Loading cleansed EPC data... This will take a moment.\n"
     ]
    },
    {
     "data": {
      "text/plain": [
       "Index(['ROW_NUM', 'LMK_KEY', 'ADDRESS1', 'ADDRESS2', 'ADDRESS3', 'POSTCODE',\n",
       "       'BUILDING_REFERENCE_NUMBER', 'LOCAL_AUTHORITY', 'LOCAL_AUTHORITY_LABEL',\n",
       "       'CONSTITUENCY', 'COUNTY', 'LODGEMENT_DATE', 'FINAL_PROPERTY_TYPE',\n",
       "       'FINAL_PROP_TENURE', 'FINAL_PROPERTY_AGE', 'FINAL_HAB_ROOMS',\n",
       "       'FINAL_FLOOR_AREA', 'FINAL_WALL_TYPE', 'FINAL_WALL_INS', 'FINAL_RIR',\n",
       "       'FINAL_LOFT_INS', 'FINAL_ROOF_TYPE', 'FINAL_MAIN_FUEL',\n",
       "       'FINAL_SEC_SYSTEM', 'FINAL_SEC_FUEL_TYPE', 'FINAL_GLAZ_TYPE',\n",
       "       'FINAL_ENERGY_CONSUMPTION', 'FINAL_EPC_BAND', 'FINAL_EPC_SCORE',\n",
       "       'FINAL_CO2_EMISSIONS', 'FINAL_FUEL_BILL', 'FINAL_METER_TYPE',\n",
       "       'FINAL_FLOOR_TYPE', 'FINAL_FLOOR_INS', 'FINAL_HEAT_CONTROL',\n",
       "       'FINAL_LOW_ENERGY_LIGHTING', 'FINAL_FIREPLACES', 'FINAL_WIND_FLAG',\n",
       "       'FINAL_PV_FLAG', 'FINAL_SOLAR_THERMAL_FLAG', 'FINAL_MAIN_FUEL_NEW',\n",
       "       'FINAL_HEATING_SYSTEM', 'HEAT_PUMP'],\n",
       "      dtype='object')"
      ]
     },
     "execution_count": 42,
     "metadata": {},
     "output_type": "execute_result"
    }
   ],
   "source": [
    "est_cleansed = epc_data.load_cleansed_epc(data_path=LOCAL_DATA_DIR, n_samples=500)\n",
    "est_cleansed.columns"
   ]
  },
  {
   "cell_type": "code",
   "execution_count": null,
   "id": "d4c98c1d",
   "metadata": {},
   "outputs": [],
   "source": []
  },
  {
   "cell_type": "code",
   "execution_count": null,
   "id": "39bcf447",
   "metadata": {},
   "outputs": [],
   "source": []
  }
 ],
 "metadata": {
  "jupytext": {
   "cell_metadata_filter": "-all",
   "comment_magics": true
  },
  "kernelspec": {
   "display_name": "Python 3",
   "language": "python",
   "name": "python3"
  },
  "language_info": {
   "codemirror_mode": {
    "name": "ipython",
    "version": 3
   },
   "file_extension": ".py",
   "mimetype": "text/x-python",
   "name": "python",
   "nbconvert_exporter": "python",
   "pygments_lexer": "ipython3",
   "version": "3.8.12"
  },
  "vscode": {
   "interpreter": {
    "hash": "151bc73aaa639fad610cb4b2d60afec3c77157d89b4c3022086af37771d09181"
   }
  }
 },
 "nbformat": 4,
 "nbformat_minor": 5
}
