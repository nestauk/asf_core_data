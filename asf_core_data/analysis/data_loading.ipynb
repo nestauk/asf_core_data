{
 "cells": [
  {
   "cell_type": "markdown",
   "id": "ed24df62",
   "metadata": {},
   "source": [
    "## ASF Core Data Infrastructure -  Data Loaders\n",
    "\n",
    "This notebook shows how to load and use the EPC data and related datasets. <br>\n",
    "The data can be loaded directly from the S3 bucket named [`asf-core-data`](https://s3.console.aws.amazon.com/s3/buckets/asf-core-data?region=eu-west-2&tab=objects) or it can be downloaded to a local directory, from where it will be loaded when needed."
   ]
  },
  {
   "cell_type": "code",
   "execution_count": 6,
   "id": "2ebe8bd6",
   "metadata": {},
   "outputs": [
    {
     "name": "stdout",
     "output_type": "stream",
     "text": [
      "The autoreload extension is already loaded. To reload it, use:\n",
      "  %reload_ext autoreload\n"
     ]
    }
   ],
   "source": [
    "%load_ext autoreload\n",
    "%autoreload 2\n",
    "\n",
    "import sys\n",
    "import os\n",
    "import asf_core_data\n",
    "\n",
    "\n",
    "from asf_core_data import load_preprocessed_epc_data\n",
    "from asf_core_data.getters.epc import epc_data, data_batches\n",
    "from asf_core_data.getters.supplementary_data.deprivation import imd_data\n",
    "from asf_core_data.getters.supplementary_data.geospatial import coordinates\n",
    "from asf_core_data.pipeline.preprocessing import preprocess_epc_data\n",
    "from asf_core_data.utils.visualisation import easy_plotting\n",
    "from asf_core_data.getters import data_getters\n",
    "\n",
    "\n",
    "from asf_core_data.config import base_config\n",
    "\n",
    "from asf_core_data.pipeline.data_joining import merge_install_dates\n",
    "\n",
    "from asf_core_data import Path\n",
    "\n"
   ]
  },
  {
   "cell_type": "markdown",
   "id": "abc1c05c",
   "metadata": {},
   "source": [
    "## Local Data Dir\n",
    "\n",
    "While all the data can be loaded from S3 directly, some data takes a long time to load. It is easiest to keep a local copy in a designated folder that mirrors the structure of the S3 bucket asf-core-data. \n",
    "\n",
    "The setup is easy: create an empty folder of any name in any location you like. The next cell will even create this folder for you if it doesn't already exist.\n",
    "\n",
    "The keyword argument `data_path` that is passed to many loading functions defines whether the data is loaded from S3 (`\"S3\"`) or from the local directory (`LOCAL_DATA_DIR`). The advantage of loading from S3 is that you data is always up-to-date. The disadvantage is that reading certain data directly from S3 can take a long time, which would need to be repeated everytime the code is executed. \n",
    "\n",
    "We recommend using direct loading from S3 for smaller datasets, such as MCS and supplementary data or smaller subsets of the EPC data, but keep a copy of the large EPC files in a local directory. Functions such as `data_batches.check_for_newest_batch()` will notify you if your local batch is not up-to-date. \n",
    "\n",
    "**Note**: the keyword `data_path` will be renamed to `data_source` before the next merge.\n"
   ]
  },
  {
   "cell_type": "code",
   "execution_count": 7,
   "id": "bb07b5ca",
   "metadata": {},
   "outputs": [],
   "source": [
    "LOCAL_DATA_DIR = '/path/to/dir'\n",
    "\n",
    "if not os.path.exists(LOCAL_DATA_DIR):\n",
    "    os.makedirs(LOCAL_DATA_DIR)"
   ]
  },
  {
   "cell_type": "markdown",
   "id": "06a71105",
   "metadata": {},
   "source": [
    "If you have just created a new data folder, then before downloading any data, there will be no EPC data batches in your local directory.\n"
   ]
  },
  {
   "cell_type": "code",
   "execution_count": 8,
   "id": "4b8e69d0",
   "metadata": {},
   "outputs": [
    {
     "name": "stdout",
     "output_type": "stream",
     "text": [
      "Local dir\n",
      "---------------\n",
      "Available batches: ['2021_Q2_0721']\n"
     ]
    }
   ],
   "source": [
    "print(\"Local dir\\n---------------\")\n",
    "print(\"Available batches:\", data_batches.get_all_batch_names(data_path=LOCAL_DATA_DIR, check_folder='input'))"
   ]
  },
  {
   "cell_type": "markdown",
   "id": "879becb2",
   "metadata": {},
   "source": [
    "## Download some of the data to your local dir\n",
    "\n",
    "Our current data dir is still empty at this point. The function `print_download_options()` shows us what data can be downloaded from S3. The option of downloading MCS data will be added shortly.\n",
    "\n",
    "We download the raw EPC data for England, Wales and Scotland for the batch `2021_Q2_0721`. We also download the raw and the preprocessed + deduplicated EPC data of the newest batch."
   ]
  },
  {
   "cell_type": "code",
   "execution_count": 9,
   "id": "70df1f02",
   "metadata": {},
   "outputs": [
    {
     "name": "stdout",
     "output_type": "stream",
     "text": [
      "epc_raw\n",
      "epc_raw_combined\n",
      "epc_preprocessed_dedupl\n",
      "epc_preprocessed\n",
      "EST_cleansed\n",
      "EST_cleansed_dedupl\n",
      "supplementary_data\n"
     ]
    }
   ],
   "source": [
    "data_getters.print_download_options()"
   ]
  },
  {
   "cell_type": "code",
   "execution_count": 10,
   "id": "7a7cc11b",
   "metadata": {},
   "outputs": [
    {
     "name": "stdout",
     "output_type": "stream",
     "text": [
      "CPU times: user 2min 45s, sys: 53.4 s, total: 3min 38s\n",
      "Wall time: 5min 26s\n"
     ]
    }
   ],
   "source": [
    "%%time\n",
    "data_getters.download_core_data('epc_raw', LOCAL_DATA_DIR, batch='2021_Q2_0721')"
   ]
  },
  {
   "cell_type": "code",
   "execution_count": 11,
   "id": "9fb2843f",
   "metadata": {},
   "outputs": [
    {
     "name": "stdout",
     "output_type": "stream",
     "text": [
      "CPU times: user 55.9 s, sys: 10.6 s, total: 1min 6s\n",
      "Wall time: 2min 8s\n"
     ]
    }
   ],
   "source": [
    "%%time\n",
    "data_getters.download_core_data('epc_raw_combined', LOCAL_DATA_DIR, batch=\"newest\")"
   ]
  },
  {
   "cell_type": "code",
   "execution_count": 12,
   "id": "048c2111",
   "metadata": {
    "scrolled": true
   },
   "outputs": [
    {
     "name": "stdout",
     "output_type": "stream",
     "text": [
      "CPU times: user 56 s, sys: 9.47 s, total: 1min 5s\n",
      "Wall time: 2min 28s\n"
     ]
    }
   ],
   "source": [
    "%%time\n",
    "data_getters.download_core_data('epc_preprocessed_dedupl', LOCAL_DATA_DIR, batch=\"newest\")"
   ]
  },
  {
   "cell_type": "markdown",
   "id": "aaa88cb4",
   "metadata": {},
   "source": [
    "## Batch checking\n",
    "\n",
    "When working with local data, it is important to keep track of the batches and keep your data up-to-date. The first output shows that our input directory is not up-to-date but our output directory is. (Note that we didn't download the same batch for the raw and preprocessed data above.)\n",
    "\n",
    "After downloading the most recent data batch for the raw EPC data, we get confirmation that our data is now up-to-date. The batch checking functions show that our local input directory now contains two batches and the output directory contains only one batch.\n",
    "\n",
    "The most recent batch will always contain all the EPC data available to us (including previous batches), so the number of samples will naturally increase with every batch. The number of features may also change as new fields are added, although this may not happen with every new batch."
   ]
  },
  {
   "cell_type": "code",
   "execution_count": 13,
   "id": "48a7eea9",
   "metadata": {},
   "outputs": [
    {
     "name": "stdout",
     "output_type": "stream",
     "text": [
      "With batch 2021_Q2_0721 your local data is not up to date. The newest batch 2022_Q3_complete is available on S3.\n"
     ]
    },
    {
     "data": {
      "text/plain": [
       "(False, '2022_Q3_complete')"
      ]
     },
     "execution_count": 13,
     "metadata": {},
     "output_type": "execute_result"
    }
   ],
   "source": [
    "data_batches.check_for_newest_batch(data_path=LOCAL_DATA_DIR, check_folder='inputs', verbose=True)"
   ]
  },
  {
   "cell_type": "code",
   "execution_count": 14,
   "id": "806235b8",
   "metadata": {},
   "outputs": [
    {
     "name": "stdout",
     "output_type": "stream",
     "text": [
      "Your local data is up to date with batch 2022_Q3_complete\n"
     ]
    },
    {
     "data": {
      "text/plain": [
       "(True, '2022_Q3_complete')"
      ]
     },
     "execution_count": 14,
     "metadata": {},
     "output_type": "execute_result"
    }
   ],
   "source": [
    "data_batches.check_for_newest_batch(data_path=LOCAL_DATA_DIR, check_folder='outputs', verbose=True)"
   ]
  },
  {
   "cell_type": "code",
   "execution_count": 15,
   "id": "6aad72f5",
   "metadata": {},
   "outputs": [],
   "source": [
    "data_getters.download_core_data('epc_raw', LOCAL_DATA_DIR, batch=\"newest\")"
   ]
  },
  {
   "cell_type": "code",
   "execution_count": 16,
   "id": "9dbc56e5",
   "metadata": {},
   "outputs": [
    {
     "name": "stdout",
     "output_type": "stream",
     "text": [
      "Your local data is up to date with batch 2022_Q3_complete\n"
     ]
    },
    {
     "data": {
      "text/plain": [
       "(True, '2022_Q3_complete')"
      ]
     },
     "execution_count": 16,
     "metadata": {},
     "output_type": "execute_result"
    }
   ],
   "source": [
    "data_batches.check_for_newest_batch(data_path=LOCAL_DATA_DIR, check_folder='inputs', verbose=True)"
   ]
  },
  {
   "cell_type": "code",
   "execution_count": 17,
   "id": "3072f012",
   "metadata": {},
   "outputs": [
    {
     "name": "stdout",
     "output_type": "stream",
     "text": [
      "S3 bucket\n",
      "---------------\n",
      "Available batches: ['2021_Q2_0721', '2021_Q4_0721', '2022_Q1_complete', '2022_Q3_complete']\n",
      "Newest batch: 2022_Q3_complete\n"
     ]
    }
   ],
   "source": [
    "print(\"S3 bucket\\n---------------\")\n",
    "print(\"Available batches:\", data_batches.get_all_batch_names(data_path=\"S3\"))\n",
    "print(\"Newest batch:\", data_batches.get_most_recent_batch(data_path=\"S3\"))"
   ]
  },
  {
   "cell_type": "code",
   "execution_count": 18,
   "id": "828da98a",
   "metadata": {},
   "outputs": [
    {
     "name": "stdout",
     "output_type": "stream",
     "text": [
      "Local input dir\n",
      "---------------\n",
      "Available batches: ['2021_Q2_0721', '2022_Q3_complete']\n",
      "Newest batch: 2022_Q3_complete\n"
     ]
    }
   ],
   "source": [
    "print(\"Local input dir\\n---------------\")\n",
    "print(\"Available batches:\", data_batches.get_all_batch_names(data_path=LOCAL_DATA_DIR, check_folder='inputs'))\n",
    "print(\"Newest batch:\", data_batches.get_most_recent_batch(data_path=LOCAL_DATA_DIR))"
   ]
  },
  {
   "cell_type": "code",
   "execution_count": 19,
   "id": "ad40ee06",
   "metadata": {},
   "outputs": [
    {
     "name": "stdout",
     "output_type": "stream",
     "text": [
      "Local output dir\n",
      "---------------\n",
      "Available batches: ['2022_Q3_complete']\n",
      "Newest batch: 2022_Q3_complete\n"
     ]
    }
   ],
   "source": [
    "print(\"Local output dir\\n---------------\")\n",
    "print(\"Available batches:\", data_batches.get_all_batch_names(data_path=LOCAL_DATA_DIR, check_folder='outputs'))\n",
    "print(\"Newest batch:\", data_batches.get_most_recent_batch(data_path=LOCAL_DATA_DIR))"
   ]
  },
  {
   "cell_type": "code",
   "execution_count": 21,
   "id": "2d38c51e",
   "metadata": {},
   "outputs": [
    {
     "name": "stdout",
     "output_type": "stream",
     "text": [
      "Batch 2021_Q2_0721 includes 1111383 samples and 92 features.\n"
     ]
    }
   ],
   "source": [
    "wales_epc = epc_data.load_england_wales_data(\n",
    "    data_path=LOCAL_DATA_DIR, subset=\"Wales\", batch=\"2021_Q2_0721\"\n",
    ")\n",
    "print(\n",
    "    \"Batch 2021_Q2_0721 includes {} samples and {} features.\".format(\n",
    "        wales_epc.shape[0], wales_epc.shape[1]\n",
    "    )\n",
    ")"
   ]
  },
  {
   "cell_type": "code",
   "execution_count": 22,
   "id": "0d8f0071",
   "metadata": {},
   "outputs": [
    {
     "name": "stdout",
     "output_type": "stream",
     "text": [
      "Batch 2021_Q4_0721 includes 1214950 samples and 93 features.\n"
     ]
    }
   ],
   "source": [
    "wales_epc = epc_data.load_england_wales_data(\n",
    "    data_path=LOCAL_DATA_DIR, subset=\"Wales\", batch=\"newest\"\n",
    ")\n",
    "print(\n",
    "    \"Batch 2021_Q4_0721 includes {} samples and {} features.\".format(\n",
    "        wales_epc.shape[0], wales_epc.shape[1]\n",
    "    )\n",
    ")"
   ]
  },
  {
   "cell_type": "markdown",
   "id": "702a3f16",
   "metadata": {},
   "source": [
    "## Loading raw EPC data\n",
    "\n",
    "### Loading from local dir\n",
    "\n",
    "\n",
    "Load different subsets and batches of raw EPC data from the local data dir."
   ]
  },
  {
   "cell_type": "code",
   "execution_count": 23,
   "id": "5bff2736",
   "metadata": {},
   "outputs": [
    {
     "data": {
      "text/plain": [
       "(1214950, 93)"
      ]
     },
     "execution_count": 23,
     "metadata": {},
     "output_type": "execute_result"
    }
   ],
   "source": [
    "wales_epc = epc_data.load_raw_epc_data(\n",
    "    data_path=LOCAL_DATA_DIR, subset=\"Wales\", batch=\"newest\"\n",
    ")\n",
    "wales_epc.shape"
   ]
  },
  {
   "cell_type": "code",
   "execution_count": 24,
   "id": "09dec0d0",
   "metadata": {},
   "outputs": [
    {
     "data": {
      "text/plain": [
       "Index(['LMK_KEY', 'IMPROVEMENT_ITEM', 'IMPROVEMENT_SUMMARY_TEXT',\n",
       "       'IMPROVEMENT_DESCR_TEXT', 'IMPROVEMENT_ID', 'IMPROVEMENT_ID_TEXT',\n",
       "       'INDICATIVE_COST', 'COUNTRY'],\n",
       "      dtype='object')"
      ]
     },
     "execution_count": 24,
     "metadata": {},
     "output_type": "execute_result"
    }
   ],
   "source": [
    "wales_recs = epc_data.load_england_wales_data(data_path=LOCAL_DATA_DIR, subset='Wales', load_recs=True)\n",
    "wales_recs.columns"
   ]
  },
  {
   "cell_type": "code",
   "execution_count": 25,
   "id": "071eccf9",
   "metadata": {},
   "outputs": [
    {
     "data": {
      "text/plain": [
       "(1410278, 104)"
      ]
     },
     "execution_count": 25,
     "metadata": {},
     "output_type": "execute_result"
    }
   ],
   "source": [
    "scotland_epc = epc_data.load_raw_epc_data(\n",
    "    data_path=LOCAL_DATA_DIR, subset=\"Scotland\", batch=\"2021_Q2_0721\"\n",
    ")\n",
    "scotland_epc.shape"
   ]
  },
  {
   "cell_type": "code",
   "execution_count": 26,
   "id": "1e6fb389",
   "metadata": {},
   "outputs": [
    {
     "data": {
      "text/plain": [
       "(1596414, 105)"
      ]
     },
     "execution_count": 26,
     "metadata": {},
     "output_type": "execute_result"
    }
   ],
   "source": [
    "scotland_epc = epc_data.load_raw_epc_data(\n",
    "    data_path=LOCAL_DATA_DIR, subset=\"Scotland\", batch=\"newest\"\n",
    ")\n",
    "scotland_epc.shape"
   ]
  },
  {
   "cell_type": "markdown",
   "id": "59a3424c",
   "metadata": {},
   "source": [
    "### Loading directly from S3\n",
    "\n",
    "This works, but it can take a while and is not recommended for frequent use.\n",
    "\n",
    "Loading the Wales EPC data can take up to 5min. <br>\n",
    "Loading the Scotland EPC data can take up to 10min. <br>\n",
    "Loading the England EPC data can take up to 30min. <br>\n",
    "Loading the entire GB EPC data takes even longer... <br>\n",
    "\n",
    "It is recommended to download the data and read the data from a local directory instead, especially if needed more than just once."
   ]
  },
  {
   "cell_type": "code",
   "execution_count": 27,
   "id": "b95b9167",
   "metadata": {},
   "outputs": [],
   "source": [
    "# # Commented out to reduce runtime\n",
    "\n",
    "# england_epc = epc_data.load_raw_epc_data(\n",
    "#     data_path=LOCAL_DATA_DIR, subset=\"England\", batch=\"newest\"\n",
    "# )\n",
    "# england_epc.shape"
   ]
  },
  {
   "cell_type": "code",
   "execution_count": 28,
   "id": "0cf2936d",
   "metadata": {},
   "outputs": [],
   "source": [
    "# # Commented out to reduce runtime\n",
    "\n",
    "# %%time\n",
    "# epc_data.load_raw_epc_data(\n",
    "#     data_path=\"S3\", subset=\"Wales\")"
   ]
  },
  {
   "cell_type": "code",
   "execution_count": 29,
   "id": "5845fe29",
   "metadata": {},
   "outputs": [],
   "source": [
    "# #Commented out to reduce runtime\n",
    "\n",
    "# %%time\n",
    "# epc_data.load_raw_epc_data(\n",
    "#     data_path=\"S3\", subset=\"Scotland\")"
   ]
  },
  {
   "cell_type": "code",
   "execution_count": 30,
   "id": "11149b25",
   "metadata": {},
   "outputs": [],
   "source": [
    "# # Commented out to reduce runtime\n",
    "\n",
    "# %%time\n",
    "# epc_data.load_raw_epc_data(\n",
    "#     data_path=\"S3\", subset=\"England\")"
   ]
  },
  {
   "cell_type": "code",
   "execution_count": 31,
   "id": "0d40d697",
   "metadata": {},
   "outputs": [],
   "source": [
    "# # Commented out to reduce runtime\n",
    "\n",
    "# %%time\n",
    "# epc_data.load_raw_epc_data(\n",
    "#     data_path=\"S3\", subset=\"GB\")"
   ]
  },
  {
   "cell_type": "markdown",
   "id": "828ebb0e",
   "metadata": {},
   "source": [
    "## Load preprocessed EPC data\n",
    "\n",
    "### Loading from local dir"
   ]
  },
  {
   "cell_type": "code",
   "execution_count": 32,
   "id": "96d4f6d4",
   "metadata": {},
   "outputs": [
    {
     "data": {
      "text/plain": [
       "(25183177, 5)"
      ]
     },
     "execution_count": 32,
     "metadata": {},
     "output_type": "execute_result"
    }
   ],
   "source": [
    "prep_epc = epc_data.load_preprocessed_epc_data(\n",
    "    data_path=LOCAL_DATA_DIR,\n",
    "    version=\"raw\",\n",
    "    usecols=[\n",
    "        \"UPRN\",\n",
    "        \"CURRENT_ENERGY_RATING\",\n",
    "        \"INSPECTION_DATE\",\n",
    "        \"PROPERTY_TYPE\",\n",
    "        \"CONSTRUCTION_AGE_BAND\",\n",
    "    ],\n",
    ")\n",
    "\n",
    "prep_epc.shape"
   ]
  },
  {
   "cell_type": "code",
   "execution_count": 33,
   "id": "436e5e12",
   "metadata": {},
   "outputs": [
    {
     "data": {
      "text/plain": [
       "(5000, 58)"
      ]
     },
     "execution_count": 33,
     "metadata": {},
     "output_type": "execute_result"
    }
   ],
   "source": [
    "prep_epc_dedupl = load_preprocessed_epc_data(data_path=LOCAL_DATA_DIR, version='preprocessed_dedupl',\n",
    "                                          usecols=base_config.EPC_PREPROC_FEAT_SELECTION, batch='newest',\n",
    "                                          n_samples=5000\n",
    "                                         )\n",
    "\n",
    "prep_epc_dedupl.shape"
   ]
  },
  {
   "cell_type": "markdown",
   "id": "b4285a87",
   "metadata": {},
   "source": [
    "### Loading data from directly from S3"
   ]
  },
  {
   "cell_type": "code",
   "execution_count": 34,
   "id": "e725a991",
   "metadata": {},
   "outputs": [
    {
     "name": "stdout",
     "output_type": "stream",
     "text": [
      "2023-01-17 23:17:34,182 - botocore.credentials - INFO - Found credentials in shared credentials file: ~/.aws/credentials\n"
     ]
    },
    {
     "data": {
      "text/plain": [
       "(5000, 5)"
      ]
     },
     "execution_count": 34,
     "metadata": {},
     "output_type": "execute_result"
    }
   ],
   "source": [
    "prep_epc = epc_data.load_preprocessed_epc_data(data_path=\"S3\", version='preprocessed_dedupl',\n",
    "                                          usecols=['UPRN', 'CURRENT_ENERGY_RATING', 'INSPECTION_DATE',\n",
    "                                                   'PROPERTY_TYPE', 'CONSTRUCTION_AGE_BAND'],\n",
    "                                          batch='2021_Q4_0721',\n",
    "                                          n_samples=5000)\n",
    "\n",
    "prep_epc.shape"
   ]
  },
  {
   "cell_type": "markdown",
   "id": "ff87ad34",
   "metadata": {},
   "source": [
    "Pro tip: you can filter the data by entry year."
   ]
  },
  {
   "cell_type": "code",
   "execution_count": 35,
   "id": "7c3ac0bc",
   "metadata": {},
   "outputs": [
    {
     "data": {
      "text/plain": [
       "[2008, 2009, 2010, 2011, 2012, 2013, 2014, 2015]"
      ]
     },
     "execution_count": 35,
     "metadata": {},
     "output_type": "execute_result"
    }
   ],
   "source": [
    "prep_epc_2015 = epc_data.filter_by_year(prep_epc, 2015, up_to=True)\n",
    "sorted(prep_epc_2015[\"INSPECTION_DATE\"].dt.year.unique())"
   ]
  },
  {
   "cell_type": "markdown",
   "id": "7dc630fe",
   "metadata": {},
   "source": [
    "### Preprocess the data\n",
    "\n",
    "As preprocessed versions are available on S3 for each batch, this functionionality is optional. Preprocessing can be repeated when the preprocessing pipeline has been updated or if further fields are added. "
   ]
  },
  {
   "cell_type": "code",
   "execution_count": 36,
   "id": "719bef28",
   "metadata": {},
   "outputs": [
    {
     "name": "stdout",
     "output_type": "stream",
     "text": [
      "2023-01-17 23:17:35,379 - root - WARNING - Careful! You're not loading the complete GB dataset.\n",
      "Saving raw data to /Users/juliasuter/Documents/New_data/outputs/EPC/preprocessed_data/2021_Q2_0721/EPC_Wales_raw.csv\n",
      "\n",
      "Saving preprocessed data to /Users/juliasuter/Documents/New_data/outputs/EPC/preprocessed_data/2021_Q2_0721/EPC_Wales_preprocessed.csv\n",
      "\n",
      "Saving preprocessed and deduplicated data to /Users/juliasuter/Documents/New_data/outputs/EPC/preprocessed_data/2021_Q2_0721/EPC_Wales_preprocessed_and_deduplicated.csv\n",
      "\n",
      "Original data:\t1111383 samples, 49 features\n",
      "After cleaning:\t1111383 samples, 56 features\n",
      "After adding features:\t1111383 samples, 65 features\n",
      "After removing duplicates:\t884254 samples, 65 features\n"
     ]
    }
   ],
   "source": [
    "wales_epc_reduced = preprocess_epc_data.load_and_preprocess_epc_data(\n",
    "    data_path=LOCAL_DATA_DIR, batch=\"2021_Q2_0721\", subset='Wales', \n",
    "    reload_raw=True\n",
    ")"
   ]
  },
  {
   "cell_type": "code",
   "execution_count": 37,
   "id": "4a3de123",
   "metadata": {
    "scrolled": true
   },
   "outputs": [
    {
     "name": "stderr",
     "output_type": "stream",
     "text": [
      "/Users/juliasuter/Documents/repositories/asf_core_data/asf_core_data/pipeline/data_joining/merge_install_dates.py:123: SettingWithCopyWarning: \n",
      "A value is trying to be set on a copy of a slice from a DataFrame.\n",
      "Try using .loc[row_indexer,col_indexer] = value instead\n",
      "\n",
      "See the caveats in the documentation: https://pandas.pydata.org/pandas-docs/stable/user_guide/indexing.html#returning-a-view-versus-a-copy\n",
      "  df[\"FIRST_HP_MENTION\"] = df[identifier].map(dict(first_hp_mention))\n",
      "/Users/juliasuter/Documents/repositories/asf_core_data/asf_core_data/pipeline/data_joining/merge_install_dates.py:125: SettingWithCopyWarning: \n",
      "A value is trying to be set on a copy of a slice from a DataFrame.\n",
      "Try using .loc[row_indexer,col_indexer] = value instead\n",
      "\n",
      "See the caveats in the documentation: https://pandas.pydata.org/pandas-docs/stable/user_guide/indexing.html#returning-a-view-versus-a-copy\n",
      "  df[\"ANY_HP\"] = df[identifier].map(\n",
      "/Users/juliasuter/Documents/repositories/asf_core_data/asf_core_data/pipeline/data_joining/merge_install_dates.py:129: SettingWithCopyWarning: \n",
      "A value is trying to be set on a copy of a slice from a DataFrame.\n",
      "Try using .loc[row_indexer,col_indexer] = value instead\n",
      "\n",
      "See the caveats in the documentation: https://pandas.pydata.org/pandas-docs/stable/user_guide/indexing.html#returning-a-view-versus-a-copy\n",
      "  df[\"HP_AT_FIRST\"] = df[identifier].map(\n",
      "/Users/juliasuter/Documents/repositories/asf_core_data/asf_core_data/pipeline/data_joining/merge_install_dates.py:135: SettingWithCopyWarning: \n",
      "A value is trying to be set on a copy of a slice from a DataFrame.\n",
      "Try using .loc[row_indexer,col_indexer] = value instead\n",
      "\n",
      "See the caveats in the documentation: https://pandas.pydata.org/pandas-docs/stable/user_guide/indexing.html#returning-a-view-versus-a-copy\n",
      "  df[\"HP_AT_LAST\"] = df[identifier].map(\n",
      "/Users/juliasuter/Documents/repositories/asf_core_data/asf_core_data/pipeline/data_joining/merge_install_dates.py:141: SettingWithCopyWarning: \n",
      "A value is trying to be set on a copy of a slice from a DataFrame.\n",
      "Try using .loc[row_indexer,col_indexer] = value instead\n",
      "\n",
      "See the caveats in the documentation: https://pandas.pydata.org/pandas-docs/stable/user_guide/indexing.html#returning-a-view-versus-a-copy\n",
      "  df[\"HP_LOST\"] = df[\"HP_AT_FIRST\"] & ~df[\"HP_AT_LAST\"]\n",
      "/Users/juliasuter/Documents/repositories/asf_core_data/asf_core_data/pipeline/data_joining/merge_install_dates.py:142: SettingWithCopyWarning: \n",
      "A value is trying to be set on a copy of a slice from a DataFrame.\n",
      "Try using .loc[row_indexer,col_indexer] = value instead\n",
      "\n",
      "See the caveats in the documentation: https://pandas.pydata.org/pandas-docs/stable/user_guide/indexing.html#returning-a-view-versus-a-copy\n",
      "  df[\"HP_ADDED\"] = ~df[\"HP_AT_FIRST\"] & df[\"HP_AT_LAST\"]\n",
      "/Users/juliasuter/Documents/repositories/asf_core_data/asf_core_data/pipeline/data_joining/merge_install_dates.py:143: SettingWithCopyWarning: \n",
      "A value is trying to be set on a copy of a slice from a DataFrame.\n",
      "Try using .loc[row_indexer,col_indexer] = value instead\n",
      "\n",
      "See the caveats in the documentation: https://pandas.pydata.org/pandas-docs/stable/user_guide/indexing.html#returning-a-view-versus-a-copy\n",
      "  df[\"HP_IN_THE_MIDDLE\"] = (\n",
      "/Users/juliasuter/Documents/repositories/asf_core_data/asf_core_data/pipeline/data_joining/merge_install_dates.py:148: SettingWithCopyWarning: \n",
      "A value is trying to be set on a copy of a slice from a DataFrame.\n",
      "Try using .loc[row_indexer,col_indexer] = value instead\n",
      "\n",
      "See the caveats in the documentation: https://pandas.pydata.org/pandas-docs/stable/user_guide/indexing.html#returning-a-view-versus-a-copy\n",
      "  df[\"MCS_AVAILABLE\"] = ~df[\"HP_INSTALL_DATE\"].isna()\n",
      "/Users/juliasuter/Documents/repositories/asf_core_data/asf_core_data/pipeline/data_joining/merge_install_dates.py:151: SettingWithCopyWarning: \n",
      "A value is trying to be set on a copy of a slice from a DataFrame.\n",
      "Try using .loc[row_indexer,col_indexer] = value instead\n",
      "\n",
      "See the caveats in the documentation: https://pandas.pydata.org/pandas-docs/stable/user_guide/indexing.html#returning-a-view-versus-a-copy\n",
      "  df[\"HAS_HP_AT_SOME_POINT\"] = ~df[\"FIRST_HP_MENTION\"].isna()\n",
      "/Users/juliasuter/Documents/repositories/asf_core_data/asf_core_data/pipeline/data_joining/merge_install_dates.py:152: SettingWithCopyWarning: \n",
      "A value is trying to be set on a copy of a slice from a DataFrame.\n",
      "Try using .loc[row_indexer,col_indexer] = value instead\n",
      "\n",
      "See the caveats in the documentation: https://pandas.pydata.org/pandas-docs/stable/user_guide/indexing.html#returning-a-view-versus-a-copy\n",
      "  df[\"ARTIFICIALLY_DUPL\"] = False\n",
      "/Users/juliasuter/Documents/repositories/asf_core_data/asf_core_data/pipeline/data_joining/merge_install_dates.py:205: SettingWithCopyWarning: \n",
      "A value is trying to be set on a copy of a slice from a DataFrame.\n",
      "Try using .loc[row_indexer,col_indexer] = value instead\n",
      "\n",
      "See the caveats in the documentation: https://pandas.pydata.org/pandas-docs/stable/user_guide/indexing.html#returning-a-view-versus-a-copy\n",
      "  df[\"HP_INSTALL_DATE\"] = np.where(\n",
      "/Users/juliasuter/Documents/repositories/asf_core_data/asf_core_data/pipeline/data_joining/merge_install_dates.py:221: SettingWithCopyWarning: \n",
      "A value is trying to be set on a copy of a slice from a DataFrame.\n",
      "Try using .loc[row_indexer,col_indexer] = value instead\n",
      "\n",
      "See the caveats in the documentation: https://pandas.pydata.org/pandas-docs/stable/user_guide/indexing.html#returning-a-view-versus-a-copy\n",
      "  df[\"EPC HP entry before MCS\"] = np.where(\n",
      "/Users/juliasuter/Documents/repositories/asf_core_data/asf_core_data/pipeline/data_joining/merge_install_dates.py:226: SettingWithCopyWarning: \n",
      "A value is trying to be set on a copy of a slice from a DataFrame.\n",
      "Try using .loc[row_indexer,col_indexer] = value instead\n",
      "\n",
      "See the caveats in the documentation: https://pandas.pydata.org/pandas-docs/stable/user_guide/indexing.html#returning-a-view-versus-a-copy\n",
      "  df[\"HP_INSTALLED\"] = np.where(\n",
      "/Users/juliasuter/Documents/repositories/asf_core_data/asf_core_data/pipeline/data_joining/merge_install_dates.py:229: SettingWithCopyWarning: \n",
      "A value is trying to be set on a copy of a slice from a DataFrame.\n",
      "Try using .loc[row_indexer,col_indexer] = value instead\n",
      "\n",
      "See the caveats in the documentation: https://pandas.pydata.org/pandas-docs/stable/user_guide/indexing.html#returning-a-view-versus-a-copy\n",
      "  df[\"HP_INSTALL_DATE\"] = np.where(\n",
      "/Users/juliasuter/Documents/repositories/asf_core_data/asf_core_data/pipeline/data_joining/merge_install_dates.py:240: SettingWithCopyWarning: \n",
      "A value is trying to be set on a copy of a slice from a DataFrame.\n",
      "Try using .loc[row_indexer,col_indexer] = value instead\n",
      "\n",
      "See the caveats in the documentation: https://pandas.pydata.org/pandas-docs/stable/user_guide/indexing.html#returning-a-view-versus-a-copy\n",
      "  df[\"No EPC HP entry after MCS\"] = np.where(\n",
      "/Users/juliasuter/Documents/repositories/asf_core_data/asf_core_data/pipeline/data_joining/merge_install_dates.py:245: SettingWithCopyWarning: \n",
      "A value is trying to be set on a copy of a slice from a DataFrame.\n",
      "Try using .loc[row_indexer,col_indexer] = value instead\n",
      "\n",
      "See the caveats in the documentation: https://pandas.pydata.org/pandas-docs/stable/user_guide/indexing.html#returning-a-view-versus-a-copy\n",
      "  df[\"HP_INSTALLED\"] = np.where(\n",
      "/Users/juliasuter/Documents/repositories/asf_core_data/asf_core_data/pipeline/data_joining/merge_install_dates.py:248: SettingWithCopyWarning: \n",
      "A value is trying to be set on a copy of a slice from a DataFrame.\n",
      "Try using .loc[row_indexer,col_indexer] = value instead\n",
      "\n",
      "See the caveats in the documentation: https://pandas.pydata.org/pandas-docs/stable/user_guide/indexing.html#returning-a-view-versus-a-copy\n",
      "  df[\"HP_INSTALL_DATE\"] = np.where(\n",
      "/Users/juliasuter/Documents/repositories/asf_core_data/asf_core_data/pipeline/data_joining/merge_install_dates.py:254: SettingWithCopyWarning: \n",
      "A value is trying to be set on a copy of a slice from a DataFrame.\n",
      "Try using .loc[row_indexer,col_indexer] = value instead\n",
      "\n",
      "See the caveats in the documentation: https://pandas.pydata.org/pandas-docs/stable/user_guide/indexing.html#returning-a-view-versus-a-copy\n",
      "  df[\"HP_INSTALLED\"] = np.where(\n",
      "/Users/juliasuter/Documents/repositories/asf_core_data/asf_core_data/pipeline/data_joining/merge_install_dates.py:279: SettingWithCopyWarning: \n",
      "A value is trying to be set on a copy of a slice from a DataFrame.\n",
      "Try using .loc[row_indexer,col_indexer] = value instead\n",
      "\n",
      "See the caveats in the documentation: https://pandas.pydata.org/pandas-docs/stable/user_guide/indexing.html#returning-a-view-versus-a-copy\n",
      "  df[\"HP_INSTALL_DATE\"] = np.where(\n"
     ]
    },
    {
     "data": {
      "text/html": [
       "<div>\n",
       "<style scoped>\n",
       "    .dataframe tbody tr th:only-of-type {\n",
       "        vertical-align: middle;\n",
       "    }\n",
       "\n",
       "    .dataframe tbody tr th {\n",
       "        vertical-align: top;\n",
       "    }\n",
       "\n",
       "    .dataframe thead th {\n",
       "        text-align: right;\n",
       "    }\n",
       "</style>\n",
       "<table border=\"1\" class=\"dataframe\">\n",
       "  <thead>\n",
       "    <tr style=\"text-align: right;\">\n",
       "      <th></th>\n",
       "      <th>LMK_KEY</th>\n",
       "      <th>ADDRESS1</th>\n",
       "      <th>ADDRESS2</th>\n",
       "      <th>POSTCODE</th>\n",
       "      <th>BUILDING_REFERENCE_NUMBER</th>\n",
       "      <th>CURRENT_ENERGY_RATING</th>\n",
       "      <th>POTENTIAL_ENERGY_RATING</th>\n",
       "      <th>CURRENT_ENERGY_EFFICIENCY</th>\n",
       "      <th>PROPERTY_TYPE</th>\n",
       "      <th>BUILT_FORM</th>\n",
       "      <th>...</th>\n",
       "      <th>HP_AT_FIRST</th>\n",
       "      <th>HP_AT_LAST</th>\n",
       "      <th>HP_LOST</th>\n",
       "      <th>HP_ADDED</th>\n",
       "      <th>HP_IN_THE_MIDDLE</th>\n",
       "      <th>MCS_AVAILABLE</th>\n",
       "      <th>HAS_HP_AT_SOME_POINT</th>\n",
       "      <th>ARTIFICIALLY_DUPL</th>\n",
       "      <th>EPC HP entry before MCS</th>\n",
       "      <th>No EPC HP entry after MCS</th>\n",
       "    </tr>\n",
       "  </thead>\n",
       "  <tbody>\n",
       "    <tr>\n",
       "      <th>14789</th>\n",
       "      <td>39786320062009020419145954448748</td>\n",
       "      <td>Top Floor Flat</td>\n",
       "      <td>445 Abergele Road</td>\n",
       "      <td>LL29 9PR</td>\n",
       "      <td>4559214568</td>\n",
       "      <td>D</td>\n",
       "      <td>C</td>\n",
       "      <td>57</td>\n",
       "      <td>Flat</td>\n",
       "      <td>Detached</td>\n",
       "      <td>...</td>\n",
       "      <td>False</td>\n",
       "      <td>False</td>\n",
       "      <td>False</td>\n",
       "      <td>False</td>\n",
       "      <td>False</td>\n",
       "      <td>False</td>\n",
       "      <td>False</td>\n",
       "      <td>False</td>\n",
       "      <td>False</td>\n",
       "      <td>False</td>\n",
       "    </tr>\n",
       "    <tr>\n",
       "      <th>16759</th>\n",
       "      <td>219928910022009012012202826488418</td>\n",
       "      <td>172, Glan Gors</td>\n",
       "      <td>unknown</td>\n",
       "      <td>LL46 2SQ</td>\n",
       "      <td>1271176568</td>\n",
       "      <td>E</td>\n",
       "      <td>D</td>\n",
       "      <td>47</td>\n",
       "      <td>House</td>\n",
       "      <td>Semi-Detached</td>\n",
       "      <td>...</td>\n",
       "      <td>False</td>\n",
       "      <td>False</td>\n",
       "      <td>False</td>\n",
       "      <td>False</td>\n",
       "      <td>False</td>\n",
       "      <td>False</td>\n",
       "      <td>False</td>\n",
       "      <td>False</td>\n",
       "      <td>False</td>\n",
       "      <td>False</td>\n",
       "    </tr>\n",
       "    <tr>\n",
       "      <th>35963</th>\n",
       "      <td>215901000952009012012154907080152</td>\n",
       "      <td>Penygongl</td>\n",
       "      <td>1, High Street</td>\n",
       "      <td>LL46 2YA</td>\n",
       "      <td>1204076568</td>\n",
       "      <td>G</td>\n",
       "      <td>F</td>\n",
       "      <td>13</td>\n",
       "      <td>House</td>\n",
       "      <td>End-Terrace</td>\n",
       "      <td>...</td>\n",
       "      <td>False</td>\n",
       "      <td>False</td>\n",
       "      <td>False</td>\n",
       "      <td>False</td>\n",
       "      <td>False</td>\n",
       "      <td>False</td>\n",
       "      <td>False</td>\n",
       "      <td>False</td>\n",
       "      <td>False</td>\n",
       "      <td>False</td>\n",
       "    </tr>\n",
       "    <tr>\n",
       "      <th>8307</th>\n",
       "      <td>211987549832009012012140773068604</td>\n",
       "      <td>12, Garth Terrace</td>\n",
       "      <td>unknown</td>\n",
       "      <td>LL49 9BE</td>\n",
       "      <td>4413646568</td>\n",
       "      <td>F</td>\n",
       "      <td>D</td>\n",
       "      <td>38</td>\n",
       "      <td>House</td>\n",
       "      <td>Mid-Terrace</td>\n",
       "      <td>...</td>\n",
       "      <td>False</td>\n",
       "      <td>False</td>\n",
       "      <td>False</td>\n",
       "      <td>False</td>\n",
       "      <td>False</td>\n",
       "      <td>False</td>\n",
       "      <td>False</td>\n",
       "      <td>False</td>\n",
       "      <td>False</td>\n",
       "      <td>False</td>\n",
       "    </tr>\n",
       "    <tr>\n",
       "      <th>54579</th>\n",
       "      <td>30304250902008100115232556180518</td>\n",
       "      <td>5 Mydam Lane</td>\n",
       "      <td>Gorseinon</td>\n",
       "      <td>SA4 4YA</td>\n",
       "      <td>1908351568</td>\n",
       "      <td>B</td>\n",
       "      <td>B</td>\n",
       "      <td>82</td>\n",
       "      <td>Bungalow</td>\n",
       "      <td>Semi-Detached</td>\n",
       "      <td>...</td>\n",
       "      <td>False</td>\n",
       "      <td>False</td>\n",
       "      <td>False</td>\n",
       "      <td>False</td>\n",
       "      <td>False</td>\n",
       "      <td>False</td>\n",
       "      <td>False</td>\n",
       "      <td>False</td>\n",
       "      <td>False</td>\n",
       "      <td>False</td>\n",
       "    </tr>\n",
       "  </tbody>\n",
       "</table>\n",
       "<p>5 rows × 78 columns</p>\n",
       "</div>"
      ],
      "text/plain": [
       "                                 LMK_KEY           ADDRESS1  \\\n",
       "14789   39786320062009020419145954448748     Top Floor Flat   \n",
       "16759  219928910022009012012202826488418     172, Glan Gors   \n",
       "35963  215901000952009012012154907080152          Penygongl   \n",
       "8307   211987549832009012012140773068604  12, Garth Terrace   \n",
       "54579   30304250902008100115232556180518       5 Mydam Lane   \n",
       "\n",
       "                ADDRESS2  POSTCODE BUILDING_REFERENCE_NUMBER  \\\n",
       "14789  445 Abergele Road  LL29 9PR                4559214568   \n",
       "16759            unknown  LL46 2SQ                1271176568   \n",
       "35963     1, High Street  LL46 2YA                1204076568   \n",
       "8307             unknown  LL49 9BE                4413646568   \n",
       "54579          Gorseinon   SA4 4YA                1908351568   \n",
       "\n",
       "      CURRENT_ENERGY_RATING POTENTIAL_ENERGY_RATING  \\\n",
       "14789                     D                       C   \n",
       "16759                     E                       D   \n",
       "35963                     G                       F   \n",
       "8307                      F                       D   \n",
       "54579                     B                       B   \n",
       "\n",
       "       CURRENT_ENERGY_EFFICIENCY PROPERTY_TYPE     BUILT_FORM  ...  \\\n",
       "14789                         57          Flat       Detached  ...   \n",
       "16759                         47         House  Semi-Detached  ...   \n",
       "35963                         13         House    End-Terrace  ...   \n",
       "8307                          38         House    Mid-Terrace  ...   \n",
       "54579                         82      Bungalow  Semi-Detached  ...   \n",
       "\n",
       "      HP_AT_FIRST HP_AT_LAST HP_LOST  HP_ADDED  HP_IN_THE_MIDDLE  \\\n",
       "14789       False      False   False     False             False   \n",
       "16759       False      False   False     False             False   \n",
       "35963       False      False   False     False             False   \n",
       "8307        False      False   False     False             False   \n",
       "54579       False      False   False     False             False   \n",
       "\n",
       "       MCS_AVAILABLE  HAS_HP_AT_SOME_POINT ARTIFICIALLY_DUPL  \\\n",
       "14789          False                 False             False   \n",
       "16759          False                 False             False   \n",
       "35963          False                 False             False   \n",
       "8307           False                 False             False   \n",
       "54579          False                 False             False   \n",
       "\n",
       "      EPC HP entry before MCS  No EPC HP entry after MCS  \n",
       "14789                   False                      False  \n",
       "16759                   False                      False  \n",
       "35963                   False                      False  \n",
       "8307                    False                      False  \n",
       "54579                   False                      False  \n",
       "\n",
       "[5 rows x 78 columns]"
      ]
     },
     "execution_count": 37,
     "metadata": {},
     "output_type": "execute_result"
    }
   ],
   "source": [
    "wales_epc_with_MCS_dates = merge_install_dates.manage_hp_install_dates(\n",
    "    wales_epc_reduced\n",
    ")\n",
    "wales_epc_with_MCS_dates.head()"
   ]
  },
  {
   "cell_type": "code",
   "execution_count": 38,
   "id": "6cbfac87",
   "metadata": {},
   "outputs": [
    {
     "data": {
      "image/png": "[encoded data removed]",
      "text/plain": [
       "<Figure size 432x288 with 1 Axes>"
      ]
     },
     "metadata": {
      "needs_background": "light"
     },
     "output_type": "display_data"
    }
   ],
   "source": [
    "easy_plotting.plot_subcats_by_other_subcats(\n",
    "    wales_epc_with_MCS_dates,\n",
    "    \"PROPERTY_TYPE\",\n",
    "    \"CONSTRUCTION_AGE_BAND\",\n",
    "    plotting_colors=\"viridis\",\n",
    "    legend_loc=\"outside\",\n",
    "    plot_title=\"Construction Age by Property Type\",\n",
    "    fig_save_path=LOCAL_DATA_DIR\n",
    ")"
   ]
  },
  {
   "cell_type": "markdown",
   "id": "d79349d7",
   "metadata": {},
   "source": [
    "## Supplementary data\n",
    "\n",
    "Most supplementary data is small enough that it can be loaded from S3 directly if needed, but you can also download all of it to a local dir."
   ]
  },
  {
   "cell_type": "code",
   "execution_count": 39,
   "id": "15664726",
   "metadata": {},
   "outputs": [
    {
     "data": {
      "text/plain": [
       "England     2188612\n",
       "Scotland     157832\n",
       "Wales        138112\n",
       "Name: Country, dtype: int64"
      ]
     },
     "execution_count": 39,
     "metadata": {},
     "output_type": "execute_result"
    }
   ],
   "source": [
    "imd_df = imd_data.get_gb_imd_data(data_path='S3')\n",
    "imd_df[\"Country\"].value_counts()"
   ]
  },
  {
   "cell_type": "code",
   "execution_count": 40,
   "id": "0aedde39",
   "metadata": {
    "scrolled": false
   },
   "outputs": [
    {
     "data": {
      "text/html": [
       "<div>\n",
       "<style scoped>\n",
       "    .dataframe tbody tr th:only-of-type {\n",
       "        vertical-align: middle;\n",
       "    }\n",
       "\n",
       "    .dataframe tbody tr th {\n",
       "        vertical-align: top;\n",
       "    }\n",
       "\n",
       "    .dataframe thead th {\n",
       "        text-align: right;\n",
       "    }\n",
       "</style>\n",
       "<table border=\"1\" class=\"dataframe\">\n",
       "  <thead>\n",
       "    <tr style=\"text-align: right;\">\n",
       "      <th></th>\n",
       "      <th>Unnamed: 0</th>\n",
       "      <th>Postcode</th>\n",
       "      <th>LSOA Code</th>\n",
       "      <th>LSOA Name</th>\n",
       "      <th>LSOA Name Cymraeg</th>\n",
       "      <th>IMD Rank</th>\n",
       "      <th>IMD Decile</th>\n",
       "      <th>IMD Quintile</th>\n",
       "      <th>IMD Quartile</th>\n",
       "      <th>Income Rank</th>\n",
       "      <th>...</th>\n",
       "      <th>IMD Score</th>\n",
       "      <th>Income Score</th>\n",
       "      <th>Employment Score</th>\n",
       "      <th>Health Score</th>\n",
       "      <th>Education Score</th>\n",
       "      <th>Access to Services Score</th>\n",
       "      <th>Housing Score</th>\n",
       "      <th>Community Safety Score</th>\n",
       "      <th>Physical Environment Score</th>\n",
       "      <th>Country</th>\n",
       "    </tr>\n",
       "  </thead>\n",
       "  <tbody>\n",
       "    <tr>\n",
       "      <th>0</th>\n",
       "      <td>0</td>\n",
       "      <td>CF11AA</td>\n",
       "      <td>W01001767</td>\n",
       "      <td>Grangetown 8</td>\n",
       "      <td>Grangetown 8</td>\n",
       "      <td>426</td>\n",
       "      <td>3</td>\n",
       "      <td>2</td>\n",
       "      <td>1</td>\n",
       "      <td>458</td>\n",
       "      <td>...</td>\n",
       "      <td>31.4</td>\n",
       "      <td>32.0</td>\n",
       "      <td>14.4</td>\n",
       "      <td>27.1</td>\n",
       "      <td>30.1</td>\n",
       "      <td>8.6</td>\n",
       "      <td>99.1</td>\n",
       "      <td>19.8</td>\n",
       "      <td>82.3</td>\n",
       "      <td>Wales</td>\n",
       "    </tr>\n",
       "    <tr>\n",
       "      <th>1</th>\n",
       "      <td>1</td>\n",
       "      <td>CF11AB</td>\n",
       "      <td>W01001767</td>\n",
       "      <td>Grangetown 8</td>\n",
       "      <td>Grangetown 8</td>\n",
       "      <td>426</td>\n",
       "      <td>3</td>\n",
       "      <td>2</td>\n",
       "      <td>1</td>\n",
       "      <td>458</td>\n",
       "      <td>...</td>\n",
       "      <td>31.4</td>\n",
       "      <td>32.0</td>\n",
       "      <td>14.4</td>\n",
       "      <td>27.1</td>\n",
       "      <td>30.1</td>\n",
       "      <td>8.6</td>\n",
       "      <td>99.1</td>\n",
       "      <td>19.8</td>\n",
       "      <td>82.3</td>\n",
       "      <td>Wales</td>\n",
       "    </tr>\n",
       "    <tr>\n",
       "      <th>2</th>\n",
       "      <td>2</td>\n",
       "      <td>CF11BU</td>\n",
       "      <td>W01001767</td>\n",
       "      <td>Grangetown 8</td>\n",
       "      <td>Grangetown 8</td>\n",
       "      <td>426</td>\n",
       "      <td>3</td>\n",
       "      <td>2</td>\n",
       "      <td>1</td>\n",
       "      <td>458</td>\n",
       "      <td>...</td>\n",
       "      <td>31.4</td>\n",
       "      <td>32.0</td>\n",
       "      <td>14.4</td>\n",
       "      <td>27.1</td>\n",
       "      <td>30.1</td>\n",
       "      <td>8.6</td>\n",
       "      <td>99.1</td>\n",
       "      <td>19.8</td>\n",
       "      <td>82.3</td>\n",
       "      <td>Wales</td>\n",
       "    </tr>\n",
       "    <tr>\n",
       "      <th>3</th>\n",
       "      <td>3</td>\n",
       "      <td>CF17AT</td>\n",
       "      <td>W01001767</td>\n",
       "      <td>Grangetown 8</td>\n",
       "      <td>Grangetown 8</td>\n",
       "      <td>426</td>\n",
       "      <td>3</td>\n",
       "      <td>2</td>\n",
       "      <td>1</td>\n",
       "      <td>458</td>\n",
       "      <td>...</td>\n",
       "      <td>31.4</td>\n",
       "      <td>32.0</td>\n",
       "      <td>14.4</td>\n",
       "      <td>27.1</td>\n",
       "      <td>30.1</td>\n",
       "      <td>8.6</td>\n",
       "      <td>99.1</td>\n",
       "      <td>19.8</td>\n",
       "      <td>82.3</td>\n",
       "      <td>Wales</td>\n",
       "    </tr>\n",
       "    <tr>\n",
       "      <th>4</th>\n",
       "      <td>4</td>\n",
       "      <td>CF17HR</td>\n",
       "      <td>W01001767</td>\n",
       "      <td>Grangetown 8</td>\n",
       "      <td>Grangetown 8</td>\n",
       "      <td>426</td>\n",
       "      <td>3</td>\n",
       "      <td>2</td>\n",
       "      <td>1</td>\n",
       "      <td>458</td>\n",
       "      <td>...</td>\n",
       "      <td>31.4</td>\n",
       "      <td>32.0</td>\n",
       "      <td>14.4</td>\n",
       "      <td>27.1</td>\n",
       "      <td>30.1</td>\n",
       "      <td>8.6</td>\n",
       "      <td>99.1</td>\n",
       "      <td>19.8</td>\n",
       "      <td>82.3</td>\n",
       "      <td>Wales</td>\n",
       "    </tr>\n",
       "    <tr>\n",
       "      <th>...</th>\n",
       "      <td>...</td>\n",
       "      <td>...</td>\n",
       "      <td>...</td>\n",
       "      <td>...</td>\n",
       "      <td>...</td>\n",
       "      <td>...</td>\n",
       "      <td>...</td>\n",
       "      <td>...</td>\n",
       "      <td>...</td>\n",
       "      <td>...</td>\n",
       "      <td>...</td>\n",
       "      <td>...</td>\n",
       "      <td>...</td>\n",
       "      <td>...</td>\n",
       "      <td>...</td>\n",
       "      <td>...</td>\n",
       "      <td>...</td>\n",
       "      <td>...</td>\n",
       "      <td>...</td>\n",
       "      <td>...</td>\n",
       "      <td>...</td>\n",
       "    </tr>\n",
       "    <tr>\n",
       "      <th>138107</th>\n",
       "      <td>138107</td>\n",
       "      <td>SY256WS</td>\n",
       "      <td>W01000550</td>\n",
       "      <td>Tregaron</td>\n",
       "      <td>Tregaron</td>\n",
       "      <td>765</td>\n",
       "      <td>5</td>\n",
       "      <td>3</td>\n",
       "      <td>2</td>\n",
       "      <td>968</td>\n",
       "      <td>...</td>\n",
       "      <td>21.4</td>\n",
       "      <td>15.4</td>\n",
       "      <td>20.5</td>\n",
       "      <td>9.9</td>\n",
       "      <td>21.7</td>\n",
       "      <td>49.4</td>\n",
       "      <td>20.0</td>\n",
       "      <td>27.5</td>\n",
       "      <td>26.6</td>\n",
       "      <td>Wales</td>\n",
       "    </tr>\n",
       "    <tr>\n",
       "      <th>138108</th>\n",
       "      <td>138108</td>\n",
       "      <td>SY256WW</td>\n",
       "      <td>W01000550</td>\n",
       "      <td>Tregaron</td>\n",
       "      <td>Tregaron</td>\n",
       "      <td>765</td>\n",
       "      <td>5</td>\n",
       "      <td>3</td>\n",
       "      <td>2</td>\n",
       "      <td>968</td>\n",
       "      <td>...</td>\n",
       "      <td>21.4</td>\n",
       "      <td>15.4</td>\n",
       "      <td>20.5</td>\n",
       "      <td>9.9</td>\n",
       "      <td>21.7</td>\n",
       "      <td>49.4</td>\n",
       "      <td>20.0</td>\n",
       "      <td>27.5</td>\n",
       "      <td>26.6</td>\n",
       "      <td>Wales</td>\n",
       "    </tr>\n",
       "    <tr>\n",
       "      <th>138109</th>\n",
       "      <td>138109</td>\n",
       "      <td>SY256WX</td>\n",
       "      <td>W01000550</td>\n",
       "      <td>Tregaron</td>\n",
       "      <td>Tregaron</td>\n",
       "      <td>765</td>\n",
       "      <td>5</td>\n",
       "      <td>3</td>\n",
       "      <td>2</td>\n",
       "      <td>968</td>\n",
       "      <td>...</td>\n",
       "      <td>21.4</td>\n",
       "      <td>15.4</td>\n",
       "      <td>20.5</td>\n",
       "      <td>9.9</td>\n",
       "      <td>21.7</td>\n",
       "      <td>49.4</td>\n",
       "      <td>20.0</td>\n",
       "      <td>27.5</td>\n",
       "      <td>26.6</td>\n",
       "      <td>Wales</td>\n",
       "    </tr>\n",
       "    <tr>\n",
       "      <th>138110</th>\n",
       "      <td>138110</td>\n",
       "      <td>SY256WZ</td>\n",
       "      <td>W01000550</td>\n",
       "      <td>Tregaron</td>\n",
       "      <td>Tregaron</td>\n",
       "      <td>765</td>\n",
       "      <td>5</td>\n",
       "      <td>3</td>\n",
       "      <td>2</td>\n",
       "      <td>968</td>\n",
       "      <td>...</td>\n",
       "      <td>21.4</td>\n",
       "      <td>15.4</td>\n",
       "      <td>20.5</td>\n",
       "      <td>9.9</td>\n",
       "      <td>21.7</td>\n",
       "      <td>49.4</td>\n",
       "      <td>20.0</td>\n",
       "      <td>27.5</td>\n",
       "      <td>26.6</td>\n",
       "      <td>Wales</td>\n",
       "    </tr>\n",
       "    <tr>\n",
       "      <th>138111</th>\n",
       "      <td>138111</td>\n",
       "      <td>SY256XA</td>\n",
       "      <td>W01000550</td>\n",
       "      <td>Tregaron</td>\n",
       "      <td>Tregaron</td>\n",
       "      <td>765</td>\n",
       "      <td>5</td>\n",
       "      <td>3</td>\n",
       "      <td>2</td>\n",
       "      <td>968</td>\n",
       "      <td>...</td>\n",
       "      <td>21.4</td>\n",
       "      <td>15.4</td>\n",
       "      <td>20.5</td>\n",
       "      <td>9.9</td>\n",
       "      <td>21.7</td>\n",
       "      <td>49.4</td>\n",
       "      <td>20.0</td>\n",
       "      <td>27.5</td>\n",
       "      <td>26.6</td>\n",
       "      <td>Wales</td>\n",
       "    </tr>\n",
       "  </tbody>\n",
       "</table>\n",
       "<p>138112 rows × 27 columns</p>\n",
       "</div>"
      ],
      "text/plain": [
       "        Unnamed: 0 Postcode  LSOA Code     LSOA Name LSOA Name Cymraeg  \\\n",
       "0                0   CF11AA  W01001767  Grangetown 8      Grangetown 8   \n",
       "1                1   CF11AB  W01001767  Grangetown 8      Grangetown 8   \n",
       "2                2   CF11BU  W01001767  Grangetown 8      Grangetown 8   \n",
       "3                3   CF17AT  W01001767  Grangetown 8      Grangetown 8   \n",
       "4                4   CF17HR  W01001767  Grangetown 8      Grangetown 8   \n",
       "...            ...      ...        ...           ...               ...   \n",
       "138107      138107  SY256WS  W01000550      Tregaron          Tregaron   \n",
       "138108      138108  SY256WW  W01000550      Tregaron          Tregaron   \n",
       "138109      138109  SY256WX  W01000550      Tregaron          Tregaron   \n",
       "138110      138110  SY256WZ  W01000550      Tregaron          Tregaron   \n",
       "138111      138111  SY256XA  W01000550      Tregaron          Tregaron   \n",
       "\n",
       "        IMD Rank  IMD Decile  IMD Quintile  IMD Quartile  Income Rank  ...  \\\n",
       "0            426           3             2             1          458  ...   \n",
       "1            426           3             2             1          458  ...   \n",
       "2            426           3             2             1          458  ...   \n",
       "3            426           3             2             1          458  ...   \n",
       "4            426           3             2             1          458  ...   \n",
       "...          ...         ...           ...           ...          ...  ...   \n",
       "138107       765           5             3             2          968  ...   \n",
       "138108       765           5             3             2          968  ...   \n",
       "138109       765           5             3             2          968  ...   \n",
       "138110       765           5             3             2          968  ...   \n",
       "138111       765           5             3             2          968  ...   \n",
       "\n",
       "        IMD Score  Income Score  Employment Score  Health Score  \\\n",
       "0            31.4          32.0              14.4          27.1   \n",
       "1            31.4          32.0              14.4          27.1   \n",
       "2            31.4          32.0              14.4          27.1   \n",
       "3            31.4          32.0              14.4          27.1   \n",
       "4            31.4          32.0              14.4          27.1   \n",
       "...           ...           ...               ...           ...   \n",
       "138107       21.4          15.4              20.5           9.9   \n",
       "138108       21.4          15.4              20.5           9.9   \n",
       "138109       21.4          15.4              20.5           9.9   \n",
       "138110       21.4          15.4              20.5           9.9   \n",
       "138111       21.4          15.4              20.5           9.9   \n",
       "\n",
       "        Education Score  Access to Services Score  Housing Score  \\\n",
       "0                  30.1                       8.6           99.1   \n",
       "1                  30.1                       8.6           99.1   \n",
       "2                  30.1                       8.6           99.1   \n",
       "3                  30.1                       8.6           99.1   \n",
       "4                  30.1                       8.6           99.1   \n",
       "...                 ...                       ...            ...   \n",
       "138107             21.7                      49.4           20.0   \n",
       "138108             21.7                      49.4           20.0   \n",
       "138109             21.7                      49.4           20.0   \n",
       "138110             21.7                      49.4           20.0   \n",
       "138111             21.7                      49.4           20.0   \n",
       "\n",
       "        Community Safety Score  Physical Environment Score  Country  \n",
       "0                         19.8                        82.3    Wales  \n",
       "1                         19.8                        82.3    Wales  \n",
       "2                         19.8                        82.3    Wales  \n",
       "3                         19.8                        82.3    Wales  \n",
       "4                         19.8                        82.3    Wales  \n",
       "...                        ...                         ...      ...  \n",
       "138107                    27.5                        26.6    Wales  \n",
       "138108                    27.5                        26.6    Wales  \n",
       "138109                    27.5                        26.6    Wales  \n",
       "138110                    27.5                        26.6    Wales  \n",
       "138111                    27.5                        26.6    Wales  \n",
       "\n",
       "[138112 rows x 27 columns]"
      ]
     },
     "execution_count": 40,
     "metadata": {},
     "output_type": "execute_result"
    }
   ],
   "source": [
    "imd_data.get_country_imd_data('Wales', data_path=\"S3\")"
   ]
  },
  {
   "cell_type": "code",
   "execution_count": 41,
   "id": "4ade9e08",
   "metadata": {},
   "outputs": [
    {
     "data": {
      "text/html": [
       "<div>\n",
       "<style scoped>\n",
       "    .dataframe tbody tr th:only-of-type {\n",
       "        vertical-align: middle;\n",
       "    }\n",
       "\n",
       "    .dataframe tbody tr th {\n",
       "        vertical-align: top;\n",
       "    }\n",
       "\n",
       "    .dataframe thead th {\n",
       "        text-align: right;\n",
       "    }\n",
       "</style>\n",
       "<table border=\"1\" class=\"dataframe\">\n",
       "  <thead>\n",
       "    <tr style=\"text-align: right;\">\n",
       "      <th></th>\n",
       "      <th>POSTCODE</th>\n",
       "      <th>LATITUDE</th>\n",
       "      <th>LONGITUDE</th>\n",
       "    </tr>\n",
       "  </thead>\n",
       "  <tbody>\n",
       "    <tr>\n",
       "      <th>0</th>\n",
       "      <td>AB10 1XG</td>\n",
       "      <td>57.144165</td>\n",
       "      <td>-2.114848</td>\n",
       "    </tr>\n",
       "    <tr>\n",
       "      <th>1</th>\n",
       "      <td>AB10 6RN</td>\n",
       "      <td>57.137880</td>\n",
       "      <td>-2.121487</td>\n",
       "    </tr>\n",
       "    <tr>\n",
       "      <th>2</th>\n",
       "      <td>AB10 7JB</td>\n",
       "      <td>57.124274</td>\n",
       "      <td>-2.127190</td>\n",
       "    </tr>\n",
       "    <tr>\n",
       "      <th>3</th>\n",
       "      <td>AB11 5QN</td>\n",
       "      <td>57.142701</td>\n",
       "      <td>-2.093295</td>\n",
       "    </tr>\n",
       "    <tr>\n",
       "      <th>4</th>\n",
       "      <td>AB11 6UL</td>\n",
       "      <td>57.137547</td>\n",
       "      <td>-2.112233</td>\n",
       "    </tr>\n",
       "  </tbody>\n",
       "</table>\n",
       "</div>"
      ],
      "text/plain": [
       "   POSTCODE   LATITUDE  LONGITUDE\n",
       "0  AB10 1XG  57.144165  -2.114848\n",
       "1  AB10 6RN  57.137880  -2.121487\n",
       "2  AB10 7JB  57.124274  -2.127190\n",
       "3  AB11 5QN  57.142701  -2.093295\n",
       "4  AB11 6UL  57.137547  -2.112233"
      ]
     },
     "execution_count": 41,
     "metadata": {},
     "output_type": "execute_result"
    }
   ],
   "source": [
    "coords = coordinates.get_postcode_coordinates()\n",
    "coords.head()"
   ]
  },
  {
   "cell_type": "code",
   "execution_count": 42,
   "id": "bcac6000",
   "metadata": {},
   "outputs": [],
   "source": [
    "data_getters.download_core_data('supplementary_data', LOCAL_DATA_DIR)"
   ]
  },
  {
   "cell_type": "code",
   "execution_count": 43,
   "id": "c78ce629",
   "metadata": {},
   "outputs": [
    {
     "data": {
      "text/plain": [
       "England     2188612\n",
       "Scotland     157832\n",
       "Wales        138112\n",
       "Name: Country, dtype: int64"
      ]
     },
     "execution_count": 43,
     "metadata": {},
     "output_type": "execute_result"
    }
   ],
   "source": [
    "imd_df = imd_data.get_gb_imd_data(data_path=LOCAL_DATA_DIR)\n",
    "imd_df[\"Country\"].value_counts()"
   ]
  },
  {
   "cell_type": "markdown",
   "id": "62872b64",
   "metadata": {},
   "source": [
    "## EST cleansed version\n",
    "\n",
    "This data is probably no longer needed but could be loaded as follows.\n",
    "They are very large files and it would be hard to read it directly from S3."
   ]
  },
  {
   "cell_type": "code",
   "execution_count": 44,
   "id": "13f532da",
   "metadata": {},
   "outputs": [],
   "source": [
    "data_getters.download_core_data('EST_cleansed_dedupl', LOCAL_DATA_DIR)"
   ]
  },
  {
   "cell_type": "code",
   "execution_count": 45,
   "id": "bf192e99",
   "metadata": {},
   "outputs": [
    {
     "name": "stdout",
     "output_type": "stream",
     "text": [
      "Loading cleansed EPC data... This will take a moment.\n"
     ]
    },
    {
     "data": {
      "text/html": [
       "<div>\n",
       "<style scoped>\n",
       "    .dataframe tbody tr th:only-of-type {\n",
       "        vertical-align: middle;\n",
       "    }\n",
       "\n",
       "    .dataframe tbody tr th {\n",
       "        vertical-align: top;\n",
       "    }\n",
       "\n",
       "    .dataframe thead th {\n",
       "        text-align: right;\n",
       "    }\n",
       "</style>\n",
       "<table border=\"1\" class=\"dataframe\">\n",
       "  <thead>\n",
       "    <tr style=\"text-align: right;\">\n",
       "      <th></th>\n",
       "      <th>ROW_NUM</th>\n",
       "      <th>LMK_KEY</th>\n",
       "      <th>ADDRESS1</th>\n",
       "      <th>ADDRESS2</th>\n",
       "      <th>ADDRESS3</th>\n",
       "      <th>POSTCODE</th>\n",
       "      <th>BUILDING_REFERENCE_NUMBER</th>\n",
       "      <th>LOCAL_AUTHORITY</th>\n",
       "      <th>LOCAL_AUTHORITY_LABEL</th>\n",
       "      <th>CONSTITUENCY</th>\n",
       "      <th>...</th>\n",
       "      <th>FINAL_FLOOR_INS</th>\n",
       "      <th>FINAL_HEAT_CONTROL</th>\n",
       "      <th>FINAL_LOW_ENERGY_LIGHTING</th>\n",
       "      <th>FINAL_FIREPLACES</th>\n",
       "      <th>FINAL_WIND_FLAG</th>\n",
       "      <th>FINAL_PV_FLAG</th>\n",
       "      <th>FINAL_SOLAR_THERMAL_FLAG</th>\n",
       "      <th>FINAL_MAIN_FUEL_NEW</th>\n",
       "      <th>FINAL_HEATING_SYSTEM</th>\n",
       "      <th>HEAT_PUMP</th>\n",
       "    </tr>\n",
       "  </thead>\n",
       "  <tbody>\n",
       "    <tr>\n",
       "      <th>0</th>\n",
       "      <td>1</td>\n",
       "      <td>421485589962010017584888666440266</td>\n",
       "      <td>7, Greenfields</td>\n",
       "      <td>Sellindge</td>\n",
       "      <td>NaN</td>\n",
       "      <td>TN25 6HE</td>\n",
       "      <td>2955841768</td>\n",
       "      <td>NaN</td>\n",
       "      <td>NaN</td>\n",
       "      <td>E14000704</td>\n",
       "      <td>...</td>\n",
       "      <td>UnInsulated</td>\n",
       "      <td>Programmer and thermostat</td>\n",
       "      <td>51-75%</td>\n",
       "      <td>0</td>\n",
       "      <td>No</td>\n",
       "      <td>No</td>\n",
       "      <td>No</td>\n",
       "      <td>Oil</td>\n",
       "      <td>Boiler</td>\n",
       "      <td>False</td>\n",
       "    </tr>\n",
       "    <tr>\n",
       "      <th>1</th>\n",
       "      <td>2</td>\n",
       "      <td>1140055529962014072808684444248408</td>\n",
       "      <td>3 Mascall Court</td>\n",
       "      <td>Victoria Street</td>\n",
       "      <td>NaN</td>\n",
       "      <td>TN28 8DE</td>\n",
       "      <td>8313223278</td>\n",
       "      <td>NaN</td>\n",
       "      <td>NaN</td>\n",
       "      <td>E14000704</td>\n",
       "      <td>...</td>\n",
       "      <td>NaN</td>\n",
       "      <td>Programmer only</td>\n",
       "      <td>51-75%</td>\n",
       "      <td>0</td>\n",
       "      <td>No</td>\n",
       "      <td>No</td>\n",
       "      <td>NaN</td>\n",
       "      <td>Mains Gas</td>\n",
       "      <td>Boiler</td>\n",
       "      <td>False</td>\n",
       "    </tr>\n",
       "    <tr>\n",
       "      <th>2</th>\n",
       "      <td>3</td>\n",
       "      <td>1149434676512013998982206024688022</td>\n",
       "      <td>1, Weymouth Terrace</td>\n",
       "      <td>Biggins Wood Road</td>\n",
       "      <td>NaN</td>\n",
       "      <td>CT19 4ND</td>\n",
       "      <td>9757683278</td>\n",
       "      <td>NaN</td>\n",
       "      <td>NaN</td>\n",
       "      <td>E14000704</td>\n",
       "      <td>...</td>\n",
       "      <td>UnInsulated</td>\n",
       "      <td>Programmer and thermostat</td>\n",
       "      <td>76-100%</td>\n",
       "      <td>0</td>\n",
       "      <td>No</td>\n",
       "      <td>No</td>\n",
       "      <td>NaN</td>\n",
       "      <td>Mains Gas</td>\n",
       "      <td>Boiler</td>\n",
       "      <td>False</td>\n",
       "    </tr>\n",
       "    <tr>\n",
       "      <th>3</th>\n",
       "      <td>5</td>\n",
       "      <td>167161549852018114704822284000408</td>\n",
       "      <td>Flat 2 Excalibur Court</td>\n",
       "      <td>101, Harbour Way</td>\n",
       "      <td>NaN</td>\n",
       "      <td>CT20 1NA</td>\n",
       "      <td>8139982568</td>\n",
       "      <td>NaN</td>\n",
       "      <td>NaN</td>\n",
       "      <td>E14000704</td>\n",
       "      <td>...</td>\n",
       "      <td>Insulated</td>\n",
       "      <td>Programmer and thermostat</td>\n",
       "      <td>76-100%</td>\n",
       "      <td>0</td>\n",
       "      <td>No</td>\n",
       "      <td>NaN</td>\n",
       "      <td>No</td>\n",
       "      <td>Mains Gas</td>\n",
       "      <td>Boiler</td>\n",
       "      <td>False</td>\n",
       "    </tr>\n",
       "    <tr>\n",
       "      <th>4</th>\n",
       "      <td>6</td>\n",
       "      <td>957893639542013142662484686028066</td>\n",
       "      <td>12, Beacon Way</td>\n",
       "      <td>Lympne</td>\n",
       "      <td>NaN</td>\n",
       "      <td>CT21 4LJ</td>\n",
       "      <td>4548530178</td>\n",
       "      <td>NaN</td>\n",
       "      <td>NaN</td>\n",
       "      <td>E14000704</td>\n",
       "      <td>...</td>\n",
       "      <td>UnInsulated</td>\n",
       "      <td>Programmer and thermostat</td>\n",
       "      <td>76-100%</td>\n",
       "      <td>0</td>\n",
       "      <td>No</td>\n",
       "      <td>No</td>\n",
       "      <td>NaN</td>\n",
       "      <td>Mains Gas</td>\n",
       "      <td>Boiler</td>\n",
       "      <td>False</td>\n",
       "    </tr>\n",
       "  </tbody>\n",
       "</table>\n",
       "<p>5 rows × 43 columns</p>\n",
       "</div>"
      ],
      "text/plain": [
       "   ROW_NUM                             LMK_KEY                ADDRESS1  \\\n",
       "0        1   421485589962010017584888666440266          7, Greenfields   \n",
       "1        2  1140055529962014072808684444248408         3 Mascall Court   \n",
       "2        3  1149434676512013998982206024688022     1, Weymouth Terrace   \n",
       "3        5   167161549852018114704822284000408  Flat 2 Excalibur Court   \n",
       "4        6   957893639542013142662484686028066          12, Beacon Way   \n",
       "\n",
       "            ADDRESS2  ADDRESS3  POSTCODE  BUILDING_REFERENCE_NUMBER  \\\n",
       "0          Sellindge       NaN  TN25 6HE                 2955841768   \n",
       "1    Victoria Street       NaN  TN28 8DE                 8313223278   \n",
       "2  Biggins Wood Road       NaN  CT19 4ND                 9757683278   \n",
       "3   101, Harbour Way       NaN  CT20 1NA                 8139982568   \n",
       "4             Lympne       NaN  CT21 4LJ                 4548530178   \n",
       "\n",
       "   LOCAL_AUTHORITY  LOCAL_AUTHORITY_LABEL CONSTITUENCY  ... FINAL_FLOOR_INS  \\\n",
       "0              NaN                    NaN    E14000704  ...     UnInsulated   \n",
       "1              NaN                    NaN    E14000704  ...             NaN   \n",
       "2              NaN                    NaN    E14000704  ...     UnInsulated   \n",
       "3              NaN                    NaN    E14000704  ...       Insulated   \n",
       "4              NaN                    NaN    E14000704  ...     UnInsulated   \n",
       "\n",
       "          FINAL_HEAT_CONTROL FINAL_LOW_ENERGY_LIGHTING FINAL_FIREPLACES  \\\n",
       "0  Programmer and thermostat                    51-75%                0   \n",
       "1            Programmer only                    51-75%                0   \n",
       "2  Programmer and thermostat                   76-100%                0   \n",
       "3  Programmer and thermostat                   76-100%                0   \n",
       "4  Programmer and thermostat                   76-100%                0   \n",
       "\n",
       "  FINAL_WIND_FLAG  FINAL_PV_FLAG  FINAL_SOLAR_THERMAL_FLAG  \\\n",
       "0              No             No                        No   \n",
       "1              No             No                       NaN   \n",
       "2              No             No                       NaN   \n",
       "3              No            NaN                        No   \n",
       "4              No             No                       NaN   \n",
       "\n",
       "  FINAL_MAIN_FUEL_NEW FINAL_HEATING_SYSTEM HEAT_PUMP  \n",
       "0                 Oil               Boiler     False  \n",
       "1           Mains Gas               Boiler     False  \n",
       "2           Mains Gas               Boiler     False  \n",
       "3           Mains Gas               Boiler     False  \n",
       "4           Mains Gas               Boiler     False  \n",
       "\n",
       "[5 rows x 43 columns]"
      ]
     },
     "execution_count": 45,
     "metadata": {},
     "output_type": "execute_result"
    }
   ],
   "source": [
    "est_cleansed = epc_data.load_cleansed_epc(data_path=LOCAL_DATA_DIR, n_samples=5)\n",
    "est_cleansed.head()"
   ]
  },
  {
   "cell_type": "code",
   "execution_count": null,
   "id": "5af72c55",
   "metadata": {},
   "outputs": [],
   "source": []
  },
  {
   "cell_type": "code",
   "execution_count": null,
   "id": "0eb07d96",
   "metadata": {},
   "outputs": [],
   "source": []
  },
  {
   "cell_type": "code",
   "execution_count": null,
   "id": "e4e9f017",
   "metadata": {},
   "outputs": [],
   "source": []
  }
 ],
 "metadata": {
  "jupytext": {
   "cell_metadata_filter": "-all",
   "comment_magics": true
  },
  "kernelspec": {
   "display_name": "Python 3.8.12 ('asf_core_data')",
   "language": "python",
   "name": "python3"
  },
  "language_info": {
   "codemirror_mode": {
    "name": "ipython",
    "version": 3
   },
   "file_extension": ".py",
   "mimetype": "text/x-python",
   "name": "python",
   "nbconvert_exporter": "python",
   "pygments_lexer": "ipython3",
   "version": "3.8.12"
  },
  "vscode": {
   "interpreter": {
    "hash": "151bc73aaa639fad610cb4b2d60afec3c77157d89b4c3022086af37771d09181"
   }
  }
 },
 "nbformat": 4,
 "nbformat_minor": 5
}
