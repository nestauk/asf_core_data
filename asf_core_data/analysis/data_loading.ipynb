{
 "cells": [
  {
   "cell_type": "markdown",
   "id": "ed24df62",
   "metadata": {},
   "source": [
    "## ASF Core Data Infrastructure -  Data Loaders\n",
    "\n",
    "This notebook shows how to load and use the EPC data and related datasets. <br>\n",
    "The data can be loaded directly from the S3 bucket named [`asf-core-data`](https://s3.console.aws.amazon.com/s3/buckets/asf-core-data?region=eu-west-2&tab=objects) or it can be downloaded to a local directory, from where it will be loaded when needed."
   ]
  },
  {
   "cell_type": "code",
   "execution_count": 2,
   "id": "2ebe8bd6",
   "metadata": {},
   "outputs": [
    {
     "name": "stdout",
     "output_type": "stream",
     "text": [
      "2023-01-30 15:33:37,391 - botocore.credentials - INFO - Found credentials in shared credentials file: ~/.aws/credentials\n"
     ]
    }
   ],
   "source": [
    "%load_ext autoreload\n",
    "%autoreload 2\n",
    "\n",
    "import sys\n",
    "sys.path.insert(0, \"/Users/juliasuter/Documents/repositories/asf_core_data\")\n",
    "import os\n",
    "import asf_core_data\n",
    "\n",
    "\n",
    "from asf_core_data import load_preprocessed_epc_data, PROJECT_DIR\n",
    "from asf_core_data.getters.epc import epc_data, data_batches\n",
    "from asf_core_data.getters.supplementary_data.deprivation import imd_data\n",
    "from asf_core_data.getters.supplementary_data.geospatial import coordinates\n",
    "from asf_core_data.pipeline.preprocessing import preprocess_epc_data\n",
    "from asf_core_data.utils.visualisation import easy_plotting\n",
    "from asf_core_data.getters import data_getters\n",
    "\n",
    "\n",
    "from asf_core_data.config import base_config\n",
    "\n",
    "from asf_core_data.pipeline.data_joining import merge_install_dates\n",
    "\n",
    "from asf_core_data import Path\n",
    "\n",
    "\n"
   ]
  },
  {
   "cell_type": "markdown",
   "id": "abc1c05c",
   "metadata": {},
   "source": [
    "## Local Data Dir\n",
    "\n",
    "While all the data can be loaded from S3 directly, some data takes a long time to load. It is easiest to keep a local copy in a designated folder that mirrors the structure of the S3 bucket asf-core-data. \n",
    "\n",
    "The setup is easy: create an empty folder of any name in any location you like. The next cell will even create this folder for you if it doesn't already exist.\n",
    "\n",
    "The keyword argument `data_path` that is passed to many loading functions defines whether the data is loaded from S3 (`\"S3\"`) or from the local directory (`LOCAL_DATA_DIR`). The advantage of loading from S3 is that you data is always up-to-date. The disadvantage is that reading certain data directly from S3 can take a long time, which would need to be repeated everytime the code is executed. \n",
    "\n",
    "We recommend using direct loading from S3 for smaller datasets, such as MCS and supplementary data or smaller subsets of the EPC data, but keep a copy of the large EPC files in a local directory. Functions such as `data_batches.check_for_newest_batch()` will notify you if your local batch is not up-to-date. \n",
    "\n",
    "**Note**: the keyword `data_path` will be renamed to `data_source` before the next merge.\n"
   ]
  },
  {
   "cell_type": "code",
   "execution_count": 3,
   "id": "bb07b5ca",
   "metadata": {},
   "outputs": [],
   "source": [
    "LOCAL_DATA_DIR = '/path/to/dir'\n",
    "\n",
    "if not os.path.exists(LOCAL_DATA_DIR):\n",
    "    os.makedirs(LOCAL_DATA_DIR)"
   ]
  },
  {
   "cell_type": "markdown",
   "id": "06a71105",
   "metadata": {},
   "source": [
    "If you have just created a new data folder, then before downloading any data, there will be no EPC data batches in your local directory.\n"
   ]
  },
  {
   "cell_type": "code",
   "execution_count": null,
   "id": "4b8e69d0",
   "metadata": {},
   "outputs": [],
   "source": [
    "print(\"Local dir\\n---------------\")\n",
    "print(\"Available batches:\", data_batches.get_all_batch_names(data_path=LOCAL_DATA_DIR, check_folder='input'))"
   ]
  },
  {
   "cell_type": "markdown",
   "id": "879becb2",
   "metadata": {},
   "source": [
    "## Download some of the data to your local dir\n",
    "\n",
    "Our current data dir is still empty at this point. The function `print_download_options()` shows us what data can be downloaded from S3. The option of downloading MCS data will be added shortly.\n",
    "\n",
    "We download the raw EPC data for England, Wales and Scotland for the batch `2021_Q2_0721`. We also download the raw and the preprocessed + deduplicated EPC data of the newest batch."
   ]
  },
  {
   "cell_type": "code",
   "execution_count": null,
   "id": "70df1f02",
   "metadata": {},
   "outputs": [],
   "source": [
    "data_getters.print_download_options()"
   ]
  },
  {
   "cell_type": "code",
   "execution_count": null,
   "id": "7a7cc11b",
   "metadata": {},
   "outputs": [],
   "source": [
    "%%time\n",
    "data_getters.download_core_data('epc_raw', LOCAL_DATA_DIR, batch='2021_Q2_0721')"
   ]
  },
  {
   "cell_type": "code",
   "execution_count": null,
   "id": "9fb2843f",
   "metadata": {},
   "outputs": [],
   "source": [
    "%%time\n",
    "data_getters.download_core_data('epc_raw_combined', LOCAL_DATA_DIR, batch=\"newest\")"
   ]
  },
  {
   "cell_type": "code",
   "execution_count": null,
   "id": "048c2111",
   "metadata": {
    "scrolled": true
   },
   "outputs": [],
   "source": [
    "%%time\n",
    "data_getters.download_core_data('epc_preprocessed_dedupl', LOCAL_DATA_DIR, batch=\"newest\")"
   ]
  },
  {
   "cell_type": "markdown",
   "id": "aaa88cb4",
   "metadata": {},
   "source": [
    "## Batch checking\n",
    "\n",
    "When working with local data, it is important to keep track of the batches and keep your data up-to-date. The first output shows that our input directory is not up-to-date but our output directory is. (Note that we didn't download the same batch for the raw and preprocessed data above.)\n",
    "\n",
    "After downloading the most recent data batch for the raw EPC data, we get confirmation that our data is now up-to-date. The batch checking functions show that our local input directory now contains two batches and the output directory contains only one batch.\n",
    "\n",
    "The most recent batch will always contain all the EPC data available to us (including previous batches), so the number of samples will naturally increase with every batch. The number of features may also change as new fields are added, although this may not happen with every new batch."
   ]
  },
  {
   "cell_type": "code",
   "execution_count": 4,
   "id": "48a7eea9",
   "metadata": {},
   "outputs": [
    {
     "name": "stdout",
     "output_type": "stream",
     "text": [
      "With batch 2021_Q2_0721 your local data is not up to date. The newest batch 2022_Q3_complete is available on S3.\n"
     ]
    },
    {
     "data": {
      "text/plain": [
       "(False, '2022_Q3_complete')"
      ]
     },
     "execution_count": 4,
     "metadata": {},
     "output_type": "execute_result"
    }
   ],
   "source": [
    "data_batches.check_for_newest_batch(data_path=LOCAL_DATA_DIR, check_folder='inputs', verbose=True)"
   ]
  },
  {
   "cell_type": "code",
   "execution_count": 5,
   "id": "806235b8",
   "metadata": {},
   "outputs": [
    {
     "name": "stdout",
     "output_type": "stream",
     "text": [
      "Your local data is up to date with batch 2022_Q3_complete\n"
     ]
    },
    {
     "data": {
      "text/plain": [
       "(True, '2022_Q3_complete')"
      ]
     },
     "execution_count": 5,
     "metadata": {},
     "output_type": "execute_result"
    }
   ],
   "source": [
    "data_batches.check_for_newest_batch(data_path=LOCAL_DATA_DIR, check_folder='outputs', verbose=True)"
   ]
  },
  {
   "cell_type": "code",
   "execution_count": null,
   "id": "6aad72f5",
   "metadata": {},
   "outputs": [],
   "source": [
    "data_getters.download_core_data('epc_raw', LOCAL_DATA_DIR, batch=\"newest\")"
   ]
  },
  {
   "cell_type": "code",
   "execution_count": null,
   "id": "9dbc56e5",
   "metadata": {},
   "outputs": [],
   "source": [
    "data_batches.check_for_newest_batch(data_path=LOCAL_DATA_DIR, check_folder='inputs', verbose=True)"
   ]
  },
  {
   "cell_type": "code",
   "execution_count": null,
   "id": "3072f012",
   "metadata": {},
   "outputs": [],
   "source": [
    "print(\"S3 bucket\\n---------------\")\n",
    "print(\"Available batches:\", data_batches.get_all_batch_names(data_path=\"S3\"))\n",
    "print(\"Newest batch:\", data_batches.get_most_recent_batch(data_path=\"S3\"))"
   ]
  },
  {
   "cell_type": "code",
   "execution_count": null,
   "id": "828da98a",
   "metadata": {},
   "outputs": [],
   "source": [
    "print(\"Local input dir\\n---------------\")\n",
    "print(\"Available batches:\", data_batches.get_all_batch_names(data_path=LOCAL_DATA_DIR, check_folder='inputs'))\n",
    "print(\"Newest batch:\", data_batches.get_most_recent_batch(data_path=LOCAL_DATA_DIR))"
   ]
  },
  {
   "cell_type": "code",
   "execution_count": null,
   "id": "ad40ee06",
   "metadata": {},
   "outputs": [],
   "source": [
    "print(\"Local output dir\\n---------------\")\n",
    "print(\"Available batches:\", data_batches.get_all_batch_names(data_path=LOCAL_DATA_DIR, check_folder='outputs'))\n",
    "print(\"Newest batch:\", data_batches.get_most_recent_batch(data_path=LOCAL_DATA_DIR))"
   ]
  },
  {
   "cell_type": "code",
   "execution_count": null,
   "id": "2d38c51e",
   "metadata": {},
   "outputs": [],
   "source": [
    "wales_epc = epc_data.load_england_wales_data(\n",
    "    data_path=LOCAL_DATA_DIR, subset=\"Wales\", batch=\"2021_Q2_0721\"\n",
    ")\n",
    "print(\n",
    "    \"Batch 2021_Q2_0721 includes {} samples and {} features.\".format(\n",
    "        wales_epc.shape[0], wales_epc.shape[1]\n",
    "    )\n",
    ")"
   ]
  },
  {
   "cell_type": "code",
   "execution_count": null,
   "id": "0d8f0071",
   "metadata": {},
   "outputs": [],
   "source": [
    "wales_epc = epc_data.load_england_wales_data(\n",
    "    data_path=LOCAL_DATA_DIR, subset=\"Wales\", batch=\"newest\"\n",
    ")\n",
    "print(\n",
    "    \"Batch 2021_Q4_0721 includes {} samples and {} features.\".format(\n",
    "        wales_epc.shape[0], wales_epc.shape[1]\n",
    "    )\n",
    ")"
   ]
  },
  {
   "cell_type": "markdown",
   "id": "702a3f16",
   "metadata": {},
   "source": [
    "## Loading raw EPC data\n",
    "\n",
    "### Loading from local dir\n",
    "\n",
    "\n",
    "Load different subsets and batches of raw EPC data from the local data dir."
   ]
  },
  {
   "cell_type": "code",
   "execution_count": null,
   "id": "5bff2736",
   "metadata": {},
   "outputs": [],
   "source": [
    "wales_epc = epc_data.load_raw_epc_data(\n",
    "    data_path=LOCAL_DATA_DIR, subset=\"Wales\", batch=\"newest\"\n",
    ")\n",
    "wales_epc.shape"
   ]
  },
  {
   "cell_type": "code",
   "execution_count": null,
   "id": "09dec0d0",
   "metadata": {},
   "outputs": [],
   "source": [
    "wales_recs = epc_data.load_england_wales_data(data_path=LOCAL_DATA_DIR, subset='Wales', load_recs=True)\n",
    "wales_recs.columns"
   ]
  },
  {
   "cell_type": "code",
   "execution_count": null,
   "id": "071eccf9",
   "metadata": {},
   "outputs": [],
   "source": [
    "scotland_epc = epc_data.load_raw_epc_data(\n",
    "    data_path=LOCAL_DATA_DIR, subset=\"Scotland\", batch=\"2021_Q2_0721\"\n",
    ")\n",
    "scotland_epc.shape"
   ]
  },
  {
   "cell_type": "code",
   "execution_count": null,
   "id": "1e6fb389",
   "metadata": {},
   "outputs": [],
   "source": [
    "scotland_epc = epc_data.load_raw_epc_data(\n",
    "    data_path=LOCAL_DATA_DIR, subset=\"Scotland\", batch=\"newest\"\n",
    ")\n",
    "scotland_epc.shape"
   ]
  },
  {
   "cell_type": "markdown",
   "id": "59a3424c",
   "metadata": {},
   "source": [
    "### Loading directly from S3\n",
    "\n",
    "This works, but it can take a while and is not recommended for frequent use.\n",
    "\n",
    "Loading the Wales EPC data can take up to 5min. <br>\n",
    "Loading the Scotland EPC data can take up to 10min. <br>\n",
    "Loading the England EPC data can take up to 30min. <br>\n",
    "Loading the entire GB EPC data takes even longer... <br>\n",
    "\n",
    "It is recommended to download the data and read the data from a local directory instead, especially if needed more than just once."
   ]
  },
  {
   "cell_type": "code",
   "execution_count": null,
   "id": "b95b9167",
   "metadata": {},
   "outputs": [],
   "source": [
    "# # Commented out to reduce runtime\n",
    "\n",
    "# england_epc = epc_data.load_raw_epc_data(\n",
    "#     data_path=LOCAL_DATA_DIR, subset=\"England\", batch=\"newest\"\n",
    "# )\n",
    "# england_epc.shape"
   ]
  },
  {
   "cell_type": "code",
   "execution_count": null,
   "id": "0cf2936d",
   "metadata": {},
   "outputs": [],
   "source": [
    "# # Commented out to reduce runtime\n",
    "\n",
    "# %%time\n",
    "# epc_data.load_raw_epc_data(\n",
    "#     data_path=\"S3\", subset=\"Wales\")"
   ]
  },
  {
   "cell_type": "code",
   "execution_count": null,
   "id": "5845fe29",
   "metadata": {},
   "outputs": [],
   "source": [
    "# #Commented out to reduce runtime\n",
    "\n",
    "# %%time\n",
    "# epc_data.load_raw_epc_data(\n",
    "#     data_path=\"S3\", subset=\"Scotland\")"
   ]
  },
  {
   "cell_type": "code",
   "execution_count": null,
   "id": "11149b25",
   "metadata": {},
   "outputs": [],
   "source": [
    "# # Commented out to reduce runtime\n",
    "\n",
    "# %%time\n",
    "# epc_data.load_raw_epc_data(\n",
    "#     data_path=\"S3\", subset=\"England\")"
   ]
  },
  {
   "cell_type": "code",
   "execution_count": null,
   "id": "0d40d697",
   "metadata": {},
   "outputs": [],
   "source": [
    "# # Commented out to reduce runtime\n",
    "\n",
    "# %%time\n",
    "# epc_data.load_raw_epc_data(\n",
    "#     data_path=\"S3\", subset=\"GB\")"
   ]
  },
  {
   "cell_type": "markdown",
   "id": "828ebb0e",
   "metadata": {},
   "source": [
    "## Load preprocessed EPC data\n",
    "\n",
    "### Loading from local dir"
   ]
  },
  {
   "cell_type": "code",
   "execution_count": null,
   "id": "96d4f6d4",
   "metadata": {},
   "outputs": [],
   "source": [
    "prep_epc = epc_data.load_preprocessed_epc_data(\n",
    "    data_path=LOCAL_DATA_DIR,\n",
    "    version=\"raw\",\n",
    "    usecols=[\n",
    "        \"UPRN\",\n",
    "        \"CURRENT_ENERGY_RATING\",\n",
    "        \"INSPECTION_DATE\",\n",
    "        \"PROPERTY_TYPE\",\n",
    "        \"CONSTRUCTION_AGE_BAND\",\n",
    "    ],\n",
    ")\n",
    "\n",
    "prep_epc.shape"
   ]
  },
  {
   "cell_type": "code",
   "execution_count": 7,
   "id": "436e5e12",
   "metadata": {},
   "outputs": [
    {
     "data": {
      "text/plain": [
       "(5000, 58)"
      ]
     },
     "execution_count": 7,
     "metadata": {},
     "output_type": "execute_result"
    }
   ],
   "source": [
    "prep_epc_dedupl = load_preprocessed_epc_data(data_path=LOCAL_DATA_DIR, version='preprocessed_dedupl',\n",
    "                                          usecols=base_config.EPC_PREPROC_FEAT_SELECTION, batch='newest',\n",
    "                                          n_samples=5000\n",
    "                                         )\n",
    "\n",
    "prep_epc_dedupl.shape"
   ]
  },
  {
   "cell_type": "markdown",
   "id": "b4285a87",
   "metadata": {},
   "source": [
    "### Loading data from directly from S3"
   ]
  },
  {
   "cell_type": "code",
   "execution_count": null,
   "id": "e725a991",
   "metadata": {},
   "outputs": [],
   "source": [
    "prep_epc = epc_data.load_preprocessed_epc_data(data_path=\"S3\", version='preprocessed_dedupl',\n",
    "                                          usecols=['UPRN', 'CURRENT_ENERGY_RATING', 'INSPECTION_DATE',\n",
    "                                                   'PROPERTY_TYPE', 'CONSTRUCTION_AGE_BAND'],\n",
    "                                          batch='2021_Q4_0721',\n",
    "                                          n_samples=5000)\n",
    "\n",
    "prep_epc.shape"
   ]
  },
  {
   "cell_type": "markdown",
   "id": "ff87ad34",
   "metadata": {},
   "source": [
    "Pro tip: you can filter the data by entry year."
   ]
  },
  {
   "cell_type": "code",
   "execution_count": null,
   "id": "7c3ac0bc",
   "metadata": {},
   "outputs": [],
   "source": [
    "prep_epc_2015 = epc_data.filter_by_year(prep_epc, 2015, up_to=True)\n",
    "sorted(prep_epc_2015[\"INSPECTION_DATE\"].dt.year.unique())"
   ]
  },
  {
   "cell_type": "markdown",
   "id": "7dc630fe",
   "metadata": {},
   "source": [
    "### Preprocess the data\n",
    "\n",
    "As preprocessed versions are available on S3 for each batch, this functionionality is optional. Preprocessing can be repeated when the preprocessing pipeline has been updated or if further fields are added. "
   ]
  },
  {
   "cell_type": "code",
   "execution_count": null,
   "id": "719bef28",
   "metadata": {},
   "outputs": [],
   "source": [
    "wales_epc_reduced = preprocess_epc_data.load_and_preprocess_epc_data(\n",
    "    data_path=LOCAL_DATA_DIR, batch=\"2021_Q2_0721\", subset='Wales', \n",
    "    reload_raw=True\n",
    ")"
   ]
  },
  {
   "cell_type": "code",
   "execution_count": null,
   "id": "4a3de123",
   "metadata": {
    "scrolled": true
   },
   "outputs": [],
   "source": [
    "wales_epc_with_MCS_dates = merge_install_dates.manage_hp_install_dates(\n",
    "    wales_epc_reduced\n",
    ")\n",
    "wales_epc_with_MCS_dates.head()"
   ]
  },
  {
   "cell_type": "code",
   "execution_count": null,
   "id": "6cbfac87",
   "metadata": {},
   "outputs": [],
   "source": [
    "easy_plotting.plot_subcats_by_other_subcats(\n",
    "    wales_epc_with_MCS_dates,\n",
    "    \"PROPERTY_TYPE\",\n",
    "    \"CONSTRUCTION_AGE_BAND\",\n",
    "    plotting_colors=\"viridis\",\n",
    "    legend_loc=\"outside\",\n",
    "    plot_title=\"Construction Age by Property Type\",\n",
    "    fig_save_path=PROJECT_DIR / base_config.FIG_PATH\n",
    ")"
   ]
  },
  {
   "cell_type": "markdown",
   "id": "d79349d7",
   "metadata": {},
   "source": [
    "## Supplementary data\n",
    "\n",
    "Most supplementary data is small enough that it can be loaded from S3 directly if needed, but you can also download all of it to a local dir."
   ]
  },
  {
   "cell_type": "code",
   "execution_count": null,
   "id": "15664726",
   "metadata": {},
   "outputs": [],
   "source": [
    "imd_df = imd_data.get_gb_imd_data(data_path='S3')\n",
    "imd_df[\"Country\"].value_counts()"
   ]
  },
  {
   "cell_type": "code",
   "execution_count": null,
   "id": "0aedde39",
   "metadata": {
    "scrolled": false
   },
   "outputs": [],
   "source": [
    "imd_data.get_country_imd_data('Wales', data_path=\"S3\")"
   ]
  },
  {
   "cell_type": "code",
   "execution_count": null,
   "id": "4ade9e08",
   "metadata": {},
   "outputs": [],
   "source": [
    "coords = coordinates.get_postcode_coordinates()\n",
    "coords.head()"
   ]
  },
  {
   "cell_type": "code",
   "execution_count": null,
   "id": "bcac6000",
   "metadata": {},
   "outputs": [],
   "source": [
    "data_getters.download_core_data('supplementary_data', LOCAL_DATA_DIR)"
   ]
  },
  {
   "cell_type": "code",
   "execution_count": null,
   "id": "c78ce629",
   "metadata": {},
   "outputs": [],
   "source": [
    "imd_df = imd_data.get_gb_imd_data(data_path=LOCAL_DATA_DIR)\n",
    "imd_df[\"Country\"].value_counts()"
   ]
  },
  {
   "cell_type": "markdown",
   "id": "62872b64",
   "metadata": {},
   "source": [
    "## EST cleansed version\n",
    "\n",
    "This data is probably no longer needed but could be loaded as follows.\n",
    "They are very large files and it would be hard to read it directly from S3."
   ]
  },
  {
   "cell_type": "code",
   "execution_count": null,
   "id": "13f532da",
   "metadata": {},
   "outputs": [],
   "source": [
    "data_getters.download_core_data('EST_cleansed_dedupl', LOCAL_DATA_DIR)"
   ]
  },
  {
   "cell_type": "code",
   "execution_count": null,
   "id": "bf192e99",
   "metadata": {},
   "outputs": [],
   "source": [
    "est_cleansed = epc_data.load_cleansed_epc(data_path=LOCAL_DATA_DIR, n_samples=5)\n",
    "est_cleansed.head()"
   ]
  }
 ],
 "metadata": {
  "jupytext": {
   "cell_metadata_filter": "-all",
   "comment_magics": true
  },
  "kernelspec": {
   "display_name": "Python 3.8.12 ('asf_core_data')",
   "language": "python",
   "name": "python3"
  },
  "language_info": {
   "codemirror_mode": {
    "name": "ipython",
    "version": 3
   },
   "file_extension": ".py",
   "mimetype": "text/x-python",
   "name": "python",
   "nbconvert_exporter": "python",
   "pygments_lexer": "ipython3",
   "version": "3.8.12 (default, Oct 12 2021, 06:23:56) \n[Clang 10.0.0 ]"
  },
  "vscode": {
   "interpreter": {
    "hash": "151bc73aaa639fad610cb4b2d60afec3c77157d89b4c3022086af37771d09181"
   }
  }
 },
 "nbformat": 4,
 "nbformat_minor": 5
}
